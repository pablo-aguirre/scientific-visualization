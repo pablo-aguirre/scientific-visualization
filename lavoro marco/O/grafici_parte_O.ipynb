{
 "cells": [
  {
   "cell_type": "markdown",
   "id": "ce4c8c01",
   "metadata": {},
   "source": [
    "# __Pacchetto A — “Accesso e capacità di cessazione”__\n",
    "\n",
    "## __Focus: quanto è “attrezzato” un Paese/una Regione a offrire aiuto (quitline + supporto nei setting + farmaci).__\n",
    "\n",
    "\n",
    "__1. Mappa del mondo: O-index (0–10) ultimo ≤2022__\n",
    "\n",
    "- Cosa: indice composito = quitline (1) + supporto in 5 setting (ospedali, cliniche/primary care, comunità, altri setting, “altri”) (max 5) + farmaci legalmente venduti (NRT, Bupropion, Vareniclina, Citisina) (max 4) → 0–10.\n",
    "\n",
    "- Dataset: Quitline: Access_to_a_toll-free_quit_line\n",
    "\n",
    "- Setting: support_in_hospitals, ...in_health_clinics_or_primary_care, ...in_the_community, ...in_other_settings, ...in_other_settings\n",
    "\n",
    "- Farmaci: nicotine_replacement_therapy, Bupropion, Varenicline, Cytisine.\n",
    "\n",
    "- Collegamento a M/P: analoga alla mappa P-index; confrontabile con la mappa M (delta prevalenza) per pattern grezzi.\n",
    "\n",
    "__2. Trend 2007–2022 per Regione OMS: mediana O-index__\n",
    "\n",
    "- Cosa: linee con marker biennali (come in M/P) della mediana dell’O-index per regione OMS + bande IQR (opzionali).\n",
    "\n",
    "- Insight: mostra se/quanto la capacità cresce nel tempo e dove.\n",
    "\n",
    "__3. Small multiples (6 pannelli): quota di Paesi con supporto per setting__\n",
    "\n",
    "- Cosa: per ciascuna Regione OMS, % Paesi che offrono supporto in ospedali / primary care / comunità / altri (4–5 linee per pannello).\n",
    "\n",
    "- Insight: dove si sta istituzionalizzando la cessazione (es. primary care vs ospedali), coerente con gli small-multiples di P per “venue”.\n",
    "\n",
    "__4. C1 — Scatter (Paese): O-index (x) vs Prevalenza fumo M (y)__\n",
    "- colore=Regione + regressione\n",
    "- Collega l’“offerta” (O) con l’esito (M), parallelo allo scatter P→M che abbiamo già fatto."
   ]
  },
  {
   "cell_type": "markdown",
   "id": "18370321",
   "metadata": {},
   "source": [
    "## __1. Mappa del mondo: O-index (0–10) ultimo ≤2022__\n",
    "\n",
    "__Che cos’è e cosa fa vedere__\n",
    "\n",
    "- È una choropleth dell’“O-index” (0–9): per ogni Paese sommiamo 9 elementi di “cessation support” presenti nei dataset O:\n",
    "\n",
    "- 1 linea telefonica nazionale (quitline)\n",
    "\n",
    "- 4 setting con servizi per smettere (primary care/cliniche, ospedali, comunità, altri contesti)\n",
    "\n",
    "- 4 farmaci (NRT, bupropione, citisina, vareniclina – nel dato WHO sono “legally sold/available”).\n",
    "\n",
    "- Per ogni Paese prendiamo l’ultimo anno disponibile ≤ 2022 e mostriamo il totale (0=nessun elemento, 9=tutti presenti). Il riquadro a destra elenca i Top 10 per O-index.\n",
    "\n",
    "\n",
    "__Come leggere i risultati (e coerenza con i dataset)__\n",
    "\n",
    "- Si vede un gradiente netto: Nord America ed Europa hanno in genere valori alti (7–9/9); molte aree dell’Africa e parte dell’Asia hanno coperture più basse (0–4/9).\n",
    "\n",
    "- I Paesi nei Top 10 (es. Canada, Germania, Italia, Spagna, Danimarca, Finlandia, ecc.) risultano con 8–9/9: è coerente con quanto ci aspettiamo da sistemi sanitari che**:**\n",
    "\n",
    "    - dispongono di una quitline nazionale,\n",
    "\n",
    "    - hanno servizi di cessazione su più setting,\n",
    "\n",
    "    - e tutti/ quasi tutti i farmaci sono legalmente venduti.\n",
    "\n",
    "- Alcuni outlier positivi (es. Côte d’Ivoire nel tuo elenco) possono comparire perché i file “medication” misurano “legally sold/available”, non necessariamente accessibilità o rimborso: è comunque coerente con i CSV (noi mappiamo “yes/available/legally/toll-free”→1).\n",
    "\n",
    "- Ricorda che l’anno è “ultimo ≤2022”: da Paese a Paese può essere diverso (2018, 2020, 2022…), quindi piccole discrepanze rispetto a report che fissano un anno unico sono normali.\n",
    "\n",
    "- In sintesi: il grafico offre una fotografia globale della capacità di supporto alla cessazione: dove l’indice è alto c’è un’infrastruttura completa (servizi + farmaci), dove è basso mancano uno o più pilastri. La lettura è coerente con la struttura dei dataset O; se vogliamo andare oltre la “presenza legale” e parlare di uso reale o accessibilità, dovremo incrociare con prezzi/rimborso o copertura dei servizi (altri dataset o fonti)."
   ]
  },
  {
   "cell_type": "code",
   "execution_count": 7,
   "id": "0f8141f4",
   "metadata": {},
   "outputs": [
    {
     "name": "stdout",
     "output_type": "stream",
     "text": [
      "[cwd] c:\\Users\\cola0\\Desktop\\progetto visualizzazione scientifica\\O\n",
      "[csv trovati] 18\n",
      " - ../O\\Tobacco_control_offer_help_Access_to_a_toll-free_quit_line.csv\n",
      " - ../O\\Tobacco_help_smoking_cessation_support_is_available_in_health_clinics_or_other_primary_care_facilities.csv\n",
      " - ../O\\Tobacco_help_smoking_cessation_support_is_available_in_hospitals.csv\n",
      " - ../O\\Tobacco_help_smoking_cessation_support_is_available_in_other_settings.csv\n",
      " - ../O\\Tobacco_help_smoking_cessation_support_is_available_in_the_community.csv\n",
      " - ../O\\Tobacco_medication_legally_sold_Bupropion.csv\n",
      " - ../O\\Tobacco_medication_legally_sold_Cytisine.csv\n",
      " - ../O\\Tobacco_medication_legally_sold_nicotine_replacement_therapy.csv\n",
      " - ../O\\Varenicline_-_legally_sold_(Tobacco_control_Offer_help).csv\n",
      " - .\\Tobacco_control_offer_help_Access_to_a_toll-free_quit_line.csv\n",
      " - .\\Tobacco_help_smoking_cessation_support_is_available_in_health_clinics_or_other_primary_care_facilities.csv\n",
      " - .\\Tobacco_help_smoking_cessation_support_is_available_in_hospitals.csv\n",
      " - .\\Tobacco_help_smoking_cessation_support_is_available_in_other_settings.csv\n",
      " - .\\Tobacco_help_smoking_cessation_support_is_available_in_the_community.csv\n",
      " - .\\Tobacco_medication_legally_sold_Bupropion.csv\n",
      " - .\\Tobacco_medication_legally_sold_Cytisine.csv\n",
      " - .\\Tobacco_medication_legally_sold_nicotine_replacement_therapy.csv\n",
      " - .\\Varenicline_-_legally_sold_(Tobacco_control_Offer_help).csv\n",
      "\n",
      "[Diagnostica] Componenti trovati:\n",
      " - quitline       OK\n",
      " - primary_care   OK\n",
      " - hospitals      OK\n",
      " - community      OK\n",
      " - other_settings OK\n",
      " - nrt            OK\n",
      " - bupropion      OK\n",
      " - cytisine       OK\n",
      " - varenicline    OK\n",
      "\n",
      "[Diagnostica per componente]\n",
      " - quitline       years=(2007, 2022)   29.5% yes\n",
      " - primary_care   years=(2007, 2022)   57.8% yes\n",
      " - hospitals      years=(2007, 2022)   55.8% yes\n",
      " - community      years=(2007, 2022)   37.5% yes\n",
      " - other_settings years=(2007, 2022)   37.6% yes\n",
      " - nrt            years=(2007, 2022)   69.6% yes\n",
      " - bupropion      years=(2007, 2022)   52.1% yes\n",
      " - cytisine       years=(2007, 2022)   3.9% yes\n",
      " - varenicline    years=(2007, 2022)   51.5% yes\n",
      "\n",
      "[Top 10 paesi per O-index — ultimo anno ≤ 2022]\n",
      " rank       Country ISO3  Year  O_index  n_obs\n",
      "    1        Canada  CAN  2022        9      9\n",
      "    2 Cote d'Ivoire  CIV  2022        9      9\n",
      "    3       Germany  DEU  2022        9      9\n",
      "    4         Italy  ITA  2022        9      9\n",
      "    5         Spain  ESP  2022        9      9\n",
      "    6    Costa Rica  CRI  2022        8      9\n",
      "    7       Croatia  HRV  2022        8      9\n",
      "    8       Czechia  CZE  2022        8      9\n",
      "    9       Denmark  DNK  2022        8      9\n",
      "   10       Finland  FIN  2022        8      9\n"
     ]
    },
    {
     "data": {
      "application/vnd.plotly.v1+json": {
       "config": {
        "plotlyServerURL": "https://plot.ly"
       },
       "data": [
        {
         "coloraxis": "coloraxis",
         "geo": "geo",
         "hovertemplate": "<b>%{hovertext}</b><br><br>ISO3=%{location}<br>O_index=%{z}<extra></extra>",
         "hovertext": [
          "Afghanistan",
          "Angola",
          "Albania",
          "Andorra",
          "United Arab Emirates",
          "Argentina",
          "Armenia",
          "Antigua and Barbuda",
          "Australia",
          "Austria",
          "Azerbaijan",
          "Burundi",
          "Belgium",
          "Benin",
          "Burkina Faso",
          "Bangladesh",
          "Bulgaria",
          "Bahrain",
          "Bahamas",
          "Bosnia and Herzegovina",
          "Belarus",
          "Belize",
          "Bolivia (Plurinational State of)",
          "Brazil",
          "Barbados",
          "Brunei Darussalam",
          "Bhutan",
          "Botswana",
          "Central African Republic",
          "Canada",
          "Switzerland",
          "Chile",
          "China",
          "Cote d'Ivoire",
          "Cameroon",
          "Democratic Republic of the Congo",
          "Congo",
          "Cook Islands",
          "Colombia",
          "Comoros",
          "Cabo Verde",
          "Costa Rica",
          "Cuba",
          "Cyprus",
          "Czechia",
          "Germany",
          "Djibouti",
          "Dominica",
          "Denmark",
          "Dominican Republic",
          "Algeria",
          "Ecuador",
          "Egypt",
          "Eritrea",
          "Spain",
          "Estonia",
          "Ethiopia",
          "Finland",
          "Fiji",
          "France",
          "Micronesia (Federated States of)",
          "Gabon",
          "United Kingdom of Great Britain and Northern Ireland",
          "Georgia",
          "Ghana",
          "Guinea",
          "Gambia",
          "Guinea-Bissau",
          "Equatorial Guinea",
          "Greece",
          "Grenada",
          "Guatemala",
          "Guyana",
          "Honduras",
          "Croatia",
          "Haiti",
          "Hungary",
          "Indonesia",
          "India",
          "Ireland",
          "Iran (Islamic Republic of)",
          "Iraq",
          "Iceland",
          "Israel",
          "Italy",
          "Jamaica",
          "Jordan",
          "Japan",
          "Kazakhstan",
          "Kenya",
          "Kyrgyzstan",
          "Cambodia",
          "Kiribati",
          "Saint Kitts and Nevis",
          "Republic of Korea",
          "Kuwait",
          "Lao People's Democratic Republic",
          "Lebanon",
          "Liberia",
          "Libya",
          "Saint Lucia",
          "Sri Lanka",
          "Lesotho",
          "Lithuania",
          "Luxembourg",
          "Latvia",
          "Morocco",
          "Monaco",
          "Republic of Moldova",
          "Madagascar",
          "Maldives",
          "Mexico",
          "Marshall Islands",
          "North Macedonia",
          "Mali",
          "Malta",
          "Myanmar",
          "Montenegro",
          "Mongolia",
          "Mozambique",
          "Mauritania",
          "Mauritius",
          "Malawi",
          "Malaysia",
          "Namibia",
          "Niger",
          "Nigeria",
          "Nicaragua",
          "Niue",
          "Netherlands (Kingdom of the)",
          "Norway",
          "Nepal",
          "Nauru",
          "New Zealand",
          "Oman",
          "Pakistan",
          "Panama",
          "Peru",
          "Philippines",
          "Palau",
          "Papua New Guinea",
          "Poland",
          "Democratic People's Republic of Korea",
          "Portugal",
          "Paraguay",
          "occupied Palestinian territory, including east Jerusalem",
          "Qatar",
          "Romania",
          "Russian Federation",
          "Rwanda",
          "Saudi Arabia",
          "Sudan",
          "Senegal",
          "Singapore",
          "Solomon Islands",
          "Sierra Leone",
          "El Salvador",
          "San Marino",
          "Somalia",
          "Serbia",
          "South Sudan",
          "Sao Tome and Principe",
          "Suriname",
          "Slovakia",
          "Slovenia",
          "Sweden",
          "Eswatini",
          "Seychelles",
          "Syrian Arab Republic",
          "Chad",
          "Togo",
          "Thailand",
          "Tajikistan",
          "Turkmenistan",
          "Timor-Leste",
          "Tonga",
          "Trinidad and Tobago",
          "Tunisia",
          "Türkiye",
          "Tuvalu",
          "United Republic of Tanzania",
          "Uganda",
          "Ukraine",
          "Uruguay",
          "United States of America",
          "Uzbekistan",
          "Saint Vincent and the Grenadines",
          "Venezuela (Bolivarian Republic of)",
          "Viet Nam",
          "Vanuatu",
          "Samoa",
          "Yemen",
          "South Africa",
          "Zambia",
          "Zimbabwe"
         ],
         "locations": [
          "AFG",
          "AGO",
          "ALB",
          "AND",
          "ARE",
          "ARG",
          "ARM",
          "ATG",
          "AUS",
          "AUT",
          "AZE",
          "BDI",
          "BEL",
          "BEN",
          "BFA",
          "BGD",
          "BGR",
          "BHR",
          "BHS",
          "BIH",
          "BLR",
          "BLZ",
          "BOL",
          "BRA",
          "BRB",
          "BRN",
          "BTN",
          "BWA",
          "CAF",
          "CAN",
          "CHE",
          "CHL",
          "CHN",
          "CIV",
          "CMR",
          "COD",
          "COG",
          "COK",
          "COL",
          "COM",
          "CPV",
          "CRI",
          "CUB",
          "CYP",
          "CZE",
          "DEU",
          "DJI",
          "DMA",
          "DNK",
          "DOM",
          "DZA",
          "ECU",
          "EGY",
          "ERI",
          "ESP",
          "EST",
          "ETH",
          "FIN",
          "FJI",
          "FRA",
          "FSM",
          "GAB",
          "GBR",
          "GEO",
          "GHA",
          "GIN",
          "GMB",
          "GNB",
          "GNQ",
          "GRC",
          "GRD",
          "GTM",
          "GUY",
          "HND",
          "HRV",
          "HTI",
          "HUN",
          "IDN",
          "IND",
          "IRL",
          "IRN",
          "IRQ",
          "ISL",
          "ISR",
          "ITA",
          "JAM",
          "JOR",
          "JPN",
          "KAZ",
          "KEN",
          "KGZ",
          "KHM",
          "KIR",
          "KNA",
          "KOR",
          "KWT",
          "LAO",
          "LBN",
          "LBR",
          "LBY",
          "LCA",
          "LKA",
          "LSO",
          "LTU",
          "LUX",
          "LVA",
          "MAR",
          "MCO",
          "MDA",
          "MDG",
          "MDV",
          "MEX",
          "MHL",
          "MKD",
          "MLI",
          "MLT",
          "MMR",
          "MNE",
          "MNG",
          "MOZ",
          "MRT",
          "MUS",
          "MWI",
          "MYS",
          "NAM",
          "NER",
          "NGA",
          "NIC",
          "NIU",
          "NLD",
          "NOR",
          "NPL",
          "NRU",
          "NZL",
          "OMN",
          "PAK",
          "PAN",
          "PER",
          "PHL",
          "PLW",
          "PNG",
          "POL",
          "PRK",
          "PRT",
          "PRY",
          "PSE",
          "QAT",
          "ROU",
          "RUS",
          "RWA",
          "SAU",
          "SDN",
          "SEN",
          "SGP",
          "SLB",
          "SLE",
          "SLV",
          "SMR",
          "SOM",
          "SRB",
          "SSD",
          "STP",
          "SUR",
          "SVK",
          "SVN",
          "SWE",
          "SWZ",
          "SYC",
          "SYR",
          "TCD",
          "TGO",
          "THA",
          "TJK",
          "TKM",
          "TLS",
          "TON",
          "TTO",
          "TUN",
          "TUR",
          "TUV",
          "TZA",
          "UGA",
          "UKR",
          "URY",
          "USA",
          "UZB",
          "VCT",
          "VEN",
          "VNM",
          "VUT",
          "WSM",
          "YEM",
          "ZAF",
          "ZMB",
          "ZWE"
         ],
         "name": "",
         "type": "choropleth",
         "z": {
          "bdata": "AQAAAAIAAAABAAAABAAAAAcAAAAHAAAABgAAAAAAAAAHAAAABwAAAAMAAAABAAAABwAAAAAAAAAEAAAABQAAAAYAAAAFAAAABgAAAAQAAAAGAAAABAAAAAIAAAAHAAAABQAAAAUAAAAEAAAABgAAAAAAAAAJAAAABwAAAAQAAAAHAAAACQAAAAIAAAAAAAAABQAAAAUAAAAGAAAAAQAAAAIAAAAIAAAABQAAAAYAAAAIAAAACQAAAAAAAAAAAAAACAAAAAQAAAADAAAAAwAAAAIAAAAAAAAACQAAAAYAAAAEAAAACAAAAAIAAAAGAAAABAAAAAAAAAAHAAAABQAAAAEAAAAAAAAAAAAAAAAAAAAAAAAABAAAAAAAAAAFAAAABQAAAAQAAAAIAAAAAAAAAAgAAAAFAAAACAAAAAgAAAAIAAAAAwAAAAUAAAAIAAAACQAAAAgAAAAGAAAABQAAAAcAAAAHAAAABQAAAAIAAAACAAAAAgAAAAcAAAAGAAAAAAAAAAMAAAABAAAAAgAAAAUAAAADAAAAAwAAAAYAAAAHAAAACAAAAAUAAAAEAAAAAwAAAAIAAAAFAAAABwAAAAEAAAAEAAAAAgAAAAcAAAADAAAAAAAAAAMAAAAEAAAAAgAAAAcAAAAAAAAABQAAAAQAAAAAAAAABQAAAAMAAAADAAAACAAAAAcAAAAAAAAAAQAAAAgAAAAAAAAAAwAAAAUAAAAFAAAACAAAAAUAAAAAAAAACAAAAAQAAAAIAAAABQAAAAcAAAAGAAAACAAAAAUAAAAAAAAACAAAAAIAAAADAAAABwAAAAEAAAAAAAAAAwAAAAAAAAAAAAAABgAAAAAAAAAAAAAABAAAAAQAAAAGAAAACAAAAAMAAAADAAAAAAAAAAIAAAAAAAAACAAAAAAAAAAFAAAAAwAAAAQAAAADAAAABAAAAAgAAAABAAAAAQAAAAIAAAAFAAAABwAAAAcAAAAFAAAAAQAAAAYAAAAEAAAAAwAAAAIAAAABAAAABQAAAAgAAAACAAAA",
          "dtype": "i4"
         }
        }
       ],
       "layout": {
        "annotations": [
         {
          "align": "left",
          "bgcolor": "rgba(255,255,255,0.85)",
          "bordercolor": "rgba(0,0,0,0.2)",
          "borderwidth": 1,
          "font": {
           "size": 11
          },
          "showarrow": false,
          "text": "Top 10 paesi<br>1. Canada (9/9)<br>2. Cote d'Ivoire (9/9)<br>3. Germany (9/9)<br>4. Italy (9/9)<br>5. Spain (9/9)<br>6. Costa Rica (8/9)<br>7. Croatia (8/9)<br>8. Czechia (8/9)<br>9. Denmark (8/9)<br>10. Finland (8/9)",
          "x": 0.82,
          "xref": "paper",
          "y": 0.22,
          "yref": "paper"
         }
        ],
        "coloraxis": {
         "cmax": 9,
         "cmin": 0,
         "colorbar": {
          "title": {
           "text": "Indice 0–9"
          }
         },
         "colorscale": [
          [
           0,
           "rgb(247,251,255)"
          ],
          [
           0.125,
           "rgb(222,235,247)"
          ],
          [
           0.25,
           "rgb(198,219,239)"
          ],
          [
           0.375,
           "rgb(158,202,225)"
          ],
          [
           0.5,
           "rgb(107,174,214)"
          ],
          [
           0.625,
           "rgb(66,146,198)"
          ],
          [
           0.75,
           "rgb(33,113,181)"
          ],
          [
           0.875,
           "rgb(8,81,156)"
          ],
          [
           1,
           "rgb(8,48,107)"
          ]
         ]
        },
        "font": {
         "size": 12
        },
        "geo": {
         "center": {},
         "domain": {
          "x": [
           0,
           1
          ],
          "y": [
           0,
           1
          ]
         },
         "landcolor": "rgb(240,240,240)",
         "showcoastlines": false,
         "showcountries": true,
         "showframe": false
        },
        "legend": {
         "tracegroupgap": 0
        },
        "margin": {
         "b": 10,
         "l": 10,
         "r": 10,
         "t": 60
        },
        "template": {
         "data": {
          "bar": [
           {
            "error_x": {
             "color": "#2a3f5f"
            },
            "error_y": {
             "color": "#2a3f5f"
            },
            "marker": {
             "line": {
              "color": "#E5ECF6",
              "width": 0.5
             },
             "pattern": {
              "fillmode": "overlay",
              "size": 10,
              "solidity": 0.2
             }
            },
            "type": "bar"
           }
          ],
          "barpolar": [
           {
            "marker": {
             "line": {
              "color": "#E5ECF6",
              "width": 0.5
             },
             "pattern": {
              "fillmode": "overlay",
              "size": 10,
              "solidity": 0.2
             }
            },
            "type": "barpolar"
           }
          ],
          "carpet": [
           {
            "aaxis": {
             "endlinecolor": "#2a3f5f",
             "gridcolor": "white",
             "linecolor": "white",
             "minorgridcolor": "white",
             "startlinecolor": "#2a3f5f"
            },
            "baxis": {
             "endlinecolor": "#2a3f5f",
             "gridcolor": "white",
             "linecolor": "white",
             "minorgridcolor": "white",
             "startlinecolor": "#2a3f5f"
            },
            "type": "carpet"
           }
          ],
          "choropleth": [
           {
            "colorbar": {
             "outlinewidth": 0,
             "ticks": ""
            },
            "type": "choropleth"
           }
          ],
          "contour": [
           {
            "colorbar": {
             "outlinewidth": 0,
             "ticks": ""
            },
            "colorscale": [
             [
              0,
              "#0d0887"
             ],
             [
              0.1111111111111111,
              "#46039f"
             ],
             [
              0.2222222222222222,
              "#7201a8"
             ],
             [
              0.3333333333333333,
              "#9c179e"
             ],
             [
              0.4444444444444444,
              "#bd3786"
             ],
             [
              0.5555555555555556,
              "#d8576b"
             ],
             [
              0.6666666666666666,
              "#ed7953"
             ],
             [
              0.7777777777777778,
              "#fb9f3a"
             ],
             [
              0.8888888888888888,
              "#fdca26"
             ],
             [
              1,
              "#f0f921"
             ]
            ],
            "type": "contour"
           }
          ],
          "contourcarpet": [
           {
            "colorbar": {
             "outlinewidth": 0,
             "ticks": ""
            },
            "type": "contourcarpet"
           }
          ],
          "heatmap": [
           {
            "colorbar": {
             "outlinewidth": 0,
             "ticks": ""
            },
            "colorscale": [
             [
              0,
              "#0d0887"
             ],
             [
              0.1111111111111111,
              "#46039f"
             ],
             [
              0.2222222222222222,
              "#7201a8"
             ],
             [
              0.3333333333333333,
              "#9c179e"
             ],
             [
              0.4444444444444444,
              "#bd3786"
             ],
             [
              0.5555555555555556,
              "#d8576b"
             ],
             [
              0.6666666666666666,
              "#ed7953"
             ],
             [
              0.7777777777777778,
              "#fb9f3a"
             ],
             [
              0.8888888888888888,
              "#fdca26"
             ],
             [
              1,
              "#f0f921"
             ]
            ],
            "type": "heatmap"
           }
          ],
          "histogram": [
           {
            "marker": {
             "pattern": {
              "fillmode": "overlay",
              "size": 10,
              "solidity": 0.2
             }
            },
            "type": "histogram"
           }
          ],
          "histogram2d": [
           {
            "colorbar": {
             "outlinewidth": 0,
             "ticks": ""
            },
            "colorscale": [
             [
              0,
              "#0d0887"
             ],
             [
              0.1111111111111111,
              "#46039f"
             ],
             [
              0.2222222222222222,
              "#7201a8"
             ],
             [
              0.3333333333333333,
              "#9c179e"
             ],
             [
              0.4444444444444444,
              "#bd3786"
             ],
             [
              0.5555555555555556,
              "#d8576b"
             ],
             [
              0.6666666666666666,
              "#ed7953"
             ],
             [
              0.7777777777777778,
              "#fb9f3a"
             ],
             [
              0.8888888888888888,
              "#fdca26"
             ],
             [
              1,
              "#f0f921"
             ]
            ],
            "type": "histogram2d"
           }
          ],
          "histogram2dcontour": [
           {
            "colorbar": {
             "outlinewidth": 0,
             "ticks": ""
            },
            "colorscale": [
             [
              0,
              "#0d0887"
             ],
             [
              0.1111111111111111,
              "#46039f"
             ],
             [
              0.2222222222222222,
              "#7201a8"
             ],
             [
              0.3333333333333333,
              "#9c179e"
             ],
             [
              0.4444444444444444,
              "#bd3786"
             ],
             [
              0.5555555555555556,
              "#d8576b"
             ],
             [
              0.6666666666666666,
              "#ed7953"
             ],
             [
              0.7777777777777778,
              "#fb9f3a"
             ],
             [
              0.8888888888888888,
              "#fdca26"
             ],
             [
              1,
              "#f0f921"
             ]
            ],
            "type": "histogram2dcontour"
           }
          ],
          "mesh3d": [
           {
            "colorbar": {
             "outlinewidth": 0,
             "ticks": ""
            },
            "type": "mesh3d"
           }
          ],
          "parcoords": [
           {
            "line": {
             "colorbar": {
              "outlinewidth": 0,
              "ticks": ""
             }
            },
            "type": "parcoords"
           }
          ],
          "pie": [
           {
            "automargin": true,
            "type": "pie"
           }
          ],
          "scatter": [
           {
            "fillpattern": {
             "fillmode": "overlay",
             "size": 10,
             "solidity": 0.2
            },
            "type": "scatter"
           }
          ],
          "scatter3d": [
           {
            "line": {
             "colorbar": {
              "outlinewidth": 0,
              "ticks": ""
             }
            },
            "marker": {
             "colorbar": {
              "outlinewidth": 0,
              "ticks": ""
             }
            },
            "type": "scatter3d"
           }
          ],
          "scattercarpet": [
           {
            "marker": {
             "colorbar": {
              "outlinewidth": 0,
              "ticks": ""
             }
            },
            "type": "scattercarpet"
           }
          ],
          "scattergeo": [
           {
            "marker": {
             "colorbar": {
              "outlinewidth": 0,
              "ticks": ""
             }
            },
            "type": "scattergeo"
           }
          ],
          "scattergl": [
           {
            "marker": {
             "colorbar": {
              "outlinewidth": 0,
              "ticks": ""
             }
            },
            "type": "scattergl"
           }
          ],
          "scattermap": [
           {
            "marker": {
             "colorbar": {
              "outlinewidth": 0,
              "ticks": ""
             }
            },
            "type": "scattermap"
           }
          ],
          "scattermapbox": [
           {
            "marker": {
             "colorbar": {
              "outlinewidth": 0,
              "ticks": ""
             }
            },
            "type": "scattermapbox"
           }
          ],
          "scatterpolar": [
           {
            "marker": {
             "colorbar": {
              "outlinewidth": 0,
              "ticks": ""
             }
            },
            "type": "scatterpolar"
           }
          ],
          "scatterpolargl": [
           {
            "marker": {
             "colorbar": {
              "outlinewidth": 0,
              "ticks": ""
             }
            },
            "type": "scatterpolargl"
           }
          ],
          "scatterternary": [
           {
            "marker": {
             "colorbar": {
              "outlinewidth": 0,
              "ticks": ""
             }
            },
            "type": "scatterternary"
           }
          ],
          "surface": [
           {
            "colorbar": {
             "outlinewidth": 0,
             "ticks": ""
            },
            "colorscale": [
             [
              0,
              "#0d0887"
             ],
             [
              0.1111111111111111,
              "#46039f"
             ],
             [
              0.2222222222222222,
              "#7201a8"
             ],
             [
              0.3333333333333333,
              "#9c179e"
             ],
             [
              0.4444444444444444,
              "#bd3786"
             ],
             [
              0.5555555555555556,
              "#d8576b"
             ],
             [
              0.6666666666666666,
              "#ed7953"
             ],
             [
              0.7777777777777778,
              "#fb9f3a"
             ],
             [
              0.8888888888888888,
              "#fdca26"
             ],
             [
              1,
              "#f0f921"
             ]
            ],
            "type": "surface"
           }
          ],
          "table": [
           {
            "cells": {
             "fill": {
              "color": "#EBF0F8"
             },
             "line": {
              "color": "white"
             }
            },
            "header": {
             "fill": {
              "color": "#C8D4E3"
             },
             "line": {
              "color": "white"
             }
            },
            "type": "table"
           }
          ]
         },
         "layout": {
          "annotationdefaults": {
           "arrowcolor": "#2a3f5f",
           "arrowhead": 0,
           "arrowwidth": 1
          },
          "autotypenumbers": "strict",
          "coloraxis": {
           "colorbar": {
            "outlinewidth": 0,
            "ticks": ""
           }
          },
          "colorscale": {
           "diverging": [
            [
             0,
             "#8e0152"
            ],
            [
             0.1,
             "#c51b7d"
            ],
            [
             0.2,
             "#de77ae"
            ],
            [
             0.3,
             "#f1b6da"
            ],
            [
             0.4,
             "#fde0ef"
            ],
            [
             0.5,
             "#f7f7f7"
            ],
            [
             0.6,
             "#e6f5d0"
            ],
            [
             0.7,
             "#b8e186"
            ],
            [
             0.8,
             "#7fbc41"
            ],
            [
             0.9,
             "#4d9221"
            ],
            [
             1,
             "#276419"
            ]
           ],
           "sequential": [
            [
             0,
             "#0d0887"
            ],
            [
             0.1111111111111111,
             "#46039f"
            ],
            [
             0.2222222222222222,
             "#7201a8"
            ],
            [
             0.3333333333333333,
             "#9c179e"
            ],
            [
             0.4444444444444444,
             "#bd3786"
            ],
            [
             0.5555555555555556,
             "#d8576b"
            ],
            [
             0.6666666666666666,
             "#ed7953"
            ],
            [
             0.7777777777777778,
             "#fb9f3a"
            ],
            [
             0.8888888888888888,
             "#fdca26"
            ],
            [
             1,
             "#f0f921"
            ]
           ],
           "sequentialminus": [
            [
             0,
             "#0d0887"
            ],
            [
             0.1111111111111111,
             "#46039f"
            ],
            [
             0.2222222222222222,
             "#7201a8"
            ],
            [
             0.3333333333333333,
             "#9c179e"
            ],
            [
             0.4444444444444444,
             "#bd3786"
            ],
            [
             0.5555555555555556,
             "#d8576b"
            ],
            [
             0.6666666666666666,
             "#ed7953"
            ],
            [
             0.7777777777777778,
             "#fb9f3a"
            ],
            [
             0.8888888888888888,
             "#fdca26"
            ],
            [
             1,
             "#f0f921"
            ]
           ]
          },
          "colorway": [
           "#636efa",
           "#EF553B",
           "#00cc96",
           "#ab63fa",
           "#FFA15A",
           "#19d3f3",
           "#FF6692",
           "#B6E880",
           "#FF97FF",
           "#FECB52"
          ],
          "font": {
           "color": "#2a3f5f"
          },
          "geo": {
           "bgcolor": "white",
           "lakecolor": "white",
           "landcolor": "#E5ECF6",
           "showlakes": true,
           "showland": true,
           "subunitcolor": "white"
          },
          "hoverlabel": {
           "align": "left"
          },
          "hovermode": "closest",
          "mapbox": {
           "style": "light"
          },
          "paper_bgcolor": "white",
          "plot_bgcolor": "#E5ECF6",
          "polar": {
           "angularaxis": {
            "gridcolor": "white",
            "linecolor": "white",
            "ticks": ""
           },
           "bgcolor": "#E5ECF6",
           "radialaxis": {
            "gridcolor": "white",
            "linecolor": "white",
            "ticks": ""
           }
          },
          "scene": {
           "xaxis": {
            "backgroundcolor": "#E5ECF6",
            "gridcolor": "white",
            "gridwidth": 2,
            "linecolor": "white",
            "showbackground": true,
            "ticks": "",
            "zerolinecolor": "white"
           },
           "yaxis": {
            "backgroundcolor": "#E5ECF6",
            "gridcolor": "white",
            "gridwidth": 2,
            "linecolor": "white",
            "showbackground": true,
            "ticks": "",
            "zerolinecolor": "white"
           },
           "zaxis": {
            "backgroundcolor": "#E5ECF6",
            "gridcolor": "white",
            "gridwidth": 2,
            "linecolor": "white",
            "showbackground": true,
            "ticks": "",
            "zerolinecolor": "white"
           }
          },
          "shapedefaults": {
           "line": {
            "color": "#2a3f5f"
           }
          },
          "ternary": {
           "aaxis": {
            "gridcolor": "white",
            "linecolor": "white",
            "ticks": ""
           },
           "baxis": {
            "gridcolor": "white",
            "linecolor": "white",
            "ticks": ""
           },
           "bgcolor": "#E5ECF6",
           "caxis": {
            "gridcolor": "white",
            "linecolor": "white",
            "ticks": ""
           }
          },
          "title": {
           "x": 0.05
          },
          "xaxis": {
           "automargin": true,
           "gridcolor": "white",
           "linecolor": "white",
           "ticks": "",
           "title": {
            "standoff": 15
           },
           "zerolinecolor": "white",
           "zerolinewidth": 2
          },
          "yaxis": {
           "automargin": true,
           "gridcolor": "white",
           "linecolor": "white",
           "ticks": "",
           "title": {
            "standoff": 15
           },
           "zerolinecolor": "white",
           "zerolinewidth": 2
          }
         }
        },
        "title": {
         "text": "O-index (0–9) — ultimo dato ≤ 2022<br><sup>Somma: quitline + 4 setting + 4 farmaci</sup>"
        }
       }
      }
     },
     "metadata": {},
     "output_type": "display_data"
    }
   ],
   "source": [
    "# === O — Grafico O1: Mappa O-index (0–9) + Top 10 paesi ===\n",
    "import pandas as pd, numpy as np, os, glob, re\n",
    "import plotly.express as px\n",
    "from pathlib import Path\n",
    "\n",
    "YEAR_MAX = 2022\n",
    "\n",
    "# ---- utility ---------------------------------------------------------------\n",
    "def pick_col(df, *aliases):\n",
    "    cols = {c.lower(): c for c in df.columns}\n",
    "    for a in aliases:\n",
    "        if a.lower() in cols: \n",
    "            return cols[a.lower()]\n",
    "    raise KeyError(f\"Colonna non trovata tra {aliases} in: {list(df.columns)[:10]}...\")\n",
    "\n",
    "def to_binary(series):\n",
    "    \"\"\"\n",
    "    Converte una colonna in 0/1:\n",
    "    - se numerica: >0 -> 1\n",
    "    - se testuale: yes/available/legally/toll-free -> 1 ; no/not available/not legally -> 0\n",
    "    \"\"\"\n",
    "    s = series.copy()\n",
    "\n",
    "    # numerico?\n",
    "    if pd.api.types.is_numeric_dtype(s):\n",
    "        return (pd.to_numeric(s, errors=\"coerce\").fillna(0) > 0).astype(int)\n",
    "\n",
    "    # prova conversione numerica soft (es. \"1\",\"0\")\n",
    "    s_num = pd.to_numeric(s, errors=\"coerce\")\n",
    "    if s_num.notna().any():\n",
    "        return (s_num.fillna(0) > 0).astype(int)\n",
    "\n",
    "    # testo\n",
    "    st = s.astype(str).str.strip().str.lower()\n",
    "    no = st.str.contains(r\"\\bno\\b|not available|not legally|does not exist|none|absent\", na=False)\n",
    "    yes = st.str.contains(r\"\\byes\\b|available|legally|toll[- ]?free|exists?\", na=False)\n",
    "    # precedenza a \"no\" se compaiono entrambi\n",
    "    v = np.where(no, 0, np.where(yes, 1, 0))\n",
    "    return pd.Series(v, index=s.index, dtype=int)\n",
    "\n",
    "# ---- dove cercare i CSV ----------------------------------------------------\n",
    "SEARCH_DIRS = [\"O\", \"./O\", \".\", \"../O\"]\n",
    "all_csv = []\n",
    "for d in SEARCH_DIRS:\n",
    "    all_csv += glob.glob(os.path.join(d, \"*.csv\"))\n",
    "all_csv = sorted(set(all_csv))\n",
    "\n",
    "print(\"[cwd]\", os.getcwd())\n",
    "print(\"[csv trovati]\", len(all_csv))\n",
    "for f in all_csv:\n",
    "    if any(k in f.lower() for k in [\"help\", \"medication\", \"quit\"]):\n",
    "        print(\" -\", f)\n",
    "\n",
    "if not all_csv:\n",
    "    raise SystemExit(\"CSV non trovati. Controlla la directory di lavoro e il percorso dei file di O.\")\n",
    "\n",
    "# ---- mappa filename -> componente O ----------------------------------------\n",
    "COMPONENT_PATTERNS = {\n",
    "    \"quitline\"       : r\"quit[-_ ]?line\",\n",
    "    \"primary_care\"   : r\"health.*clinic|primary.*care\",\n",
    "    \"hospitals\"      : r\"hospitals?\",\n",
    "    \"community\"      : r\"community\",\n",
    "    \"other_settings\" : r\"other.*settings?\",\n",
    "    \"nrt\"            : r\"nicotine.*replacement|nrt\",\n",
    "    \"bupropion\"      : r\"bupropion\",\n",
    "    \"cytisine\"       : r\"cytisin\",\n",
    "    \"varenicline\"    : r\"vareniclin\",\n",
    "}\n",
    "\n",
    "# match dei file ai componenti (prende il primo che matcha)\n",
    "files = {}\n",
    "for comp, pat in COMPONENT_PATTERNS.items():\n",
    "    hit = [f for f in all_csv if re.search(pat, os.path.basename(f), flags=re.I)]\n",
    "    if hit:\n",
    "        files[comp] = hit[0]\n",
    "\n",
    "# diagnostica componenti\n",
    "print(\"\\n[Diagnostica] Componenti trovati:\")\n",
    "for comp in COMPONENT_PATTERNS:\n",
    "    print(f\" - {comp:<14}\", \"OK\" if comp in files else \"MISSING\")\n",
    "\n",
    "# ---- carica ogni componente in long (ISO3, Country, Year, comp, v) ----------\n",
    "long_parts = []\n",
    "diag_rows = []\n",
    "for comp, path in files.items():\n",
    "    df = pd.read_csv(path, encoding=\"utf-8-sig\")\n",
    "\n",
    "    iso_col   = pick_col(df, \"SpatialDimValueCode\",\"ISO3\",\"ISO\")\n",
    "    loc_col   = pick_col(df, \"Location\",\"Country\",\"SpatialDim\")\n",
    "    year_col  = pick_col(df, \"Period\",\"TimeDim\",\"Year\")\n",
    "\n",
    "    # trova una colonna 'valore sì/no'\n",
    "    cand = None\n",
    "    for c in [\"Value\",\"FactValueNumeric\",\"FactValue\",\"ValueNumeric\"]:\n",
    "        if c in df.columns:\n",
    "            cand = c; break\n",
    "    if cand is None:\n",
    "        # fallback: prendi la prima colonna con cardinalità molto piccola\n",
    "        small = [c for c in df.columns if df[c].nunique(dropna=False) <= 5]\n",
    "        cand = small[0] if small else df.columns[-1]\n",
    "\n",
    "    v = to_binary(df[cand])\n",
    "\n",
    "    tmp = df[[iso_col, loc_col, year_col]].copy()\n",
    "    tmp.columns = [\"ISO3\",\"Country\",\"Year\"]\n",
    "    tmp[\"comp\"] = comp\n",
    "    tmp[\"v\"] = v.values\n",
    "    tmp[\"Year\"] = pd.to_numeric(tmp[\"Year\"], errors=\"coerce\")\n",
    "\n",
    "    # keep anni validi\n",
    "    tmp = tmp[tmp[\"Year\"].between(1990, YEAR_MAX)]\n",
    "    long_parts.append(tmp)\n",
    "\n",
    "    # diagnostica: anni e % sì\n",
    "    pct_yes = 100 * (tmp[\"v\"].sum() / max(len(tmp), 1))\n",
    "    years   = (int(tmp[\"Year\"].min()) if len(tmp) else None, int(tmp[\"Year\"].max()) if len(tmp) else None)\n",
    "    diag_rows.append((comp, years, f\"{pct_yes:.1f}% yes\"))\n",
    "\n",
    "long = pd.concat(long_parts, ignore_index=True)\n",
    "\n",
    "print(\"\\n[Diagnostica per componente]\")\n",
    "for comp, years, p in diag_rows:\n",
    "    print(f\" - {comp:<14} years={years}   {p}\")\n",
    "\n",
    "# ---- O-index per Paese/Anno (somma dei 9 componenti osservati) --------------\n",
    "o_by_cty = (long.groupby([\"ISO3\",\"Country\",\"Year\"])\n",
    "                 .agg(O_index=(\"v\",\"sum\"), n_obs=(\"v\",\"size\"))\n",
    "                 .reset_index())\n",
    "\n",
    "# ---- ultimo anno (≤2022) per Paese -----------------------------------------\n",
    "last = (o_by_cty[o_by_cty[\"Year\"] <= YEAR_MAX]\n",
    "        .sort_values([\"ISO3\",\"Year\"])\n",
    "        .groupby(\"ISO3\", as_index=False)\n",
    "        .tail(1))\n",
    "\n",
    "# ---- TOP 10 paesi -----------------------------------------------------------\n",
    "top10 = (last.sort_values([\"O_index\",\"Year\",\"Country\"], ascending=[False, False, True])\n",
    "              .head(10)\n",
    "              .assign(rank=lambda d: range(1, len(d)+1)))\n",
    "\n",
    "print(\"\\n[Top 10 paesi per O-index — ultimo anno ≤ 2022]\")\n",
    "print(top10[[\"rank\",\"Country\",\"ISO3\",\"Year\",\"O_index\",\"n_obs\"]].to_string(index=False))\n",
    "\n",
    "# ---- Choropleth -------------------------------------------------------------\n",
    "# Nota: per alcuni territori speciali l'ISO3 di NE/Plotly può differire; qui assumiamo ISO3 standard.\n",
    "mmin, mmax = int(last[\"O_index\"].min()), int(last[\"O_index\"].max())\n",
    "\n",
    "fig = px.choropleth(\n",
    "    last,\n",
    "    locations=\"ISO3\",\n",
    "    color=\"O_index\",\n",
    "    hover_name=\"Country\",\n",
    "    color_continuous_scale=\"Blues\",\n",
    "    range_color=(0, 9),\n",
    "    title=f\"O-index (0–9) — ultimo dato ≤ {YEAR_MAX}<br><sup>Somma: quitline + 4 setting + 4 farmaci</sup>\",\n",
    ")\n",
    "fig.update_geos(showcoastlines=False, showcountries=True, showframe=False, landcolor=\"rgb(240,240,240)\")\n",
    "fig.update_layout(\n",
    "    margin=dict(l=10, r=10, t=60, b=10),\n",
    "    coloraxis_colorbar=dict(title=\"Indice 0–9\"),\n",
    "    font=dict(size=12)\n",
    ")\n",
    "\n",
    "# annotazione Top-10 sintetica\n",
    "txt = \"Top 10 paesi<br>\" + \"<br>\".join(\n",
    "    [f\"{r}. {c} ({oi}/9)\" for r,c,oi in top10[[\"rank\",\"Country\",\"O_index\"]].itertuples(index=False)]\n",
    ")\n",
    "fig.add_annotation(text=txt, x=0.82, y=0.22, xref=\"paper\", yref=\"paper\",\n",
    "                   showarrow=False, align=\"left\", bordercolor=\"rgba(0,0,0,0.2)\",\n",
    "                   borderwidth=1, bgcolor=\"rgba(255,255,255,0.85)\", font=dict(size=11))\n",
    "\n",
    "fig.show()\n",
    "\n",
    "# salva PNG se vuoi\n",
    "Path(\"O/outputs\").mkdir(parents=True, exist_ok=True)\n",
    "try:\n",
    "    fig.write_image(\"O/outputs/O_index_worldmap.png\", scale=2)  # richiede kaleido\n",
    "except Exception:\n",
    "    pass\n"
   ]
  },
  {
   "cell_type": "markdown",
   "id": "f5102852",
   "metadata": {},
   "source": [
    "## __2. Trend 2007–2022 per Regione OMS: mediana O-index__\n"
   ]
  },
  {
   "cell_type": "code",
   "execution_count": 18,
   "id": "6536378d",
   "metadata": {},
   "outputs": [
    {
     "name": "stdout",
     "output_type": "stream",
     "text": [
      "[debug] Cartella O: c:\\Users\\cola0\\Desktop\\progetto visualizzazione scientifica\\O\n",
      "[debug] Cartella M: c:\\Users\\cola0\\Desktop\\progetto visualizzazione scientifica\\M\n"
     ]
    },
    {
     "data": {
      "image/png": "[encoded data removed]",
      "text/plain": [
       "<Figure size 1495x845 with 1 Axes>"
      ]
     },
     "metadata": {},
     "output_type": "display_data"
    },
    {
     "name": "stdout",
     "output_type": "stream",
     "text": [
      "[salvato] c:\\Users\\cola0\\Desktop\\progetto visualizzazione scientifica\\O\\outputs\\offerhelp_trend_median_by_region.png\n"
     ]
    }
   ],
   "source": [
    "# === O — Grafico #2: Trend 2007–2022 per Regione OMS — mediana O-index (0–9) ===\n",
    "import pandas as pd, numpy as np, glob, re, os\n",
    "import matplotlib.pyplot as plt\n",
    "import seaborn as sns\n",
    "from pathlib import Path\n",
    "\n",
    "# -------------------- Parametri --------------------\n",
    "YEAR_MIN, YEAR_MAX = 2007, 2022\n",
    "PALETTE = {\n",
    "    \"African Region\": \"#1f77b4\",\n",
    "    \"Region of the Americas\": \"#ff7f0e\",\n",
    "    \"Eastern Mediterranean Region\": \"#2ca02c\",\n",
    "    \"European Region\": \"#d62728\",\n",
    "    \"South-East Asia Region\": \"#9467bd\",\n",
    "    \"Western Pacific Region\": \"#8c564b\",\n",
    "}\n",
    "REGION_ORDER = list(PALETTE.keys())\n",
    "\n",
    "# componenti dell'O-index: 1 quitline + 4 setting + 4 farmaci = 9\n",
    "COMPONENTS = {\n",
    "    \"quitline\"     : \"Tobacco_control_offer_help_Access_to_a_toll-free_quit_line.csv\",\n",
    "    \"primary_care\" : \"Tobacco_help_smoking_cessation_support_is_available_in_health_clinics_or_other_primary_care_facilities.csv\",\n",
    "    \"hospitals\"    : \"Tobacco_help_smoking_cessation_support_is_available_in_hospitals.csv\",\n",
    "    \"other_settings\":\"Tobacco_help_smoking_cessation_support_is_available_in_other_settings.csv\",\n",
    "    \"community\"    : \"Tobacco_help_smoking_cessation_support_is_available_in_the_community.csv\",\n",
    "    \"nrt\"          : \"Tobacco_medication_legally_sold_nicotine_replacement_therapy.csv\",\n",
    "    \"bupropion\"    : \"Tobacco_medication_legally_sold_Bupropion.csv\",\n",
    "    \"varenicline\"  : \"Varenicline_-_legally_sold_(Tobacco_control_Offer_help).csv\",\n",
    "    \"cytisine\"     : \"Tobacco_medication_legally_sold_Cytisine.csv\",\n",
    "}\n",
    "N_COMPONENTS = len(COMPONENTS)  # =9\n",
    "\n",
    "def yesno_to_bin(s):\n",
    "    s = s.astype(str).str.strip().str.lower()\n",
    "    return s.map({\"yes\":1,\"no\":0}).fillna(0).astype(int)\n",
    "\n",
    "def pick(df,*aliases):\n",
    "    m = {c.lower(): c for c in df.columns}\n",
    "    for a in aliases:\n",
    "        if a.lower() in m: return m[a.lower()]\n",
    "    raise KeyError(f\"Colonna non trovata in {df.columns.tolist()} (cerco {aliases})\")\n",
    "\n",
    "def norm_region(x):\n",
    "    s = str(x).strip().lower()\n",
    "    if s in {\"afr\",\"african region\",\"africa\"}: return \"African Region\"\n",
    "    if s in {\"amr\",\"region of the americas\",\"americas\"}: return \"Region of the Americas\"\n",
    "    if s in {\"emr\",\"eastern mediterranean region\",\"eastern mediterranean\"}: return \"Eastern Mediterranean Region\"\n",
    "    if s in {\"eur\",\"european region\",\"europe\"}: return \"European Region\"\n",
    "    if s in {\"sear\",\"south-east asia region\",\"south-east asia\",\"south east asia\"}: return \"South-East Asia Region\"\n",
    "    if s in {\"wpr\",\"western pacific region\",\"western pacific\"}: return \"Western Pacific Region\"\n",
    "    return np.nan\n",
    "\n",
    "# -------------------- Trova cartelle --------------------\n",
    "O_DIR = Path.cwd()\n",
    "# cerca M sia a fianco di O/ sia due livelli sopra (dipende da dove lanci il notebook)\n",
    "M_CANDIDATES = [O_DIR.parent/\"M\", Path(\"../M\"), Path(\"../../M\"), Path(\"M\")]\n",
    "M_DIR = next((p for p in M_CANDIDATES if (p.exists() and any(p.glob(\"*age*standard*.csv\")))), None)\n",
    "if M_DIR is None:\n",
    "    raise SystemExit(\"Non trovo CSV in una cartella M adiacente. Attesi file tipo '*age*standard*.csv'.\")\n",
    "\n",
    "print(f\"[debug] Cartella O: {O_DIR}\")\n",
    "print(f\"[debug] Cartella M: {M_DIR}\")\n",
    "\n",
    "# -------------------- M: mappa ISO3 -> Regione --------------------\n",
    "m_candidates = sorted(M_DIR.glob(\"*age*standard*.csv\"))\n",
    "dfm = pd.read_csv(m_candidates[0], encoding=\"utf-8-sig\")\n",
    "iso_m   = pick(dfm, \"SpatialDimValueCode\",\"ISO3\",\"ISO\")\n",
    "regionm = next((c for c in dfm.columns if c.lower() in {\"parentlocation\",\"who region\",\"who_region\",\"region\"}), None)\n",
    "if not regionm:\n",
    "    raise SystemExit(\"Nel file di M non trovo la colonna di regione OMS.\")\n",
    "iso_region = (dfm[[iso_m, regionm]].rename(columns={iso_m:\"ISO3\", regionm:\"Region\"})\n",
    "                .dropna().drop_duplicates())\n",
    "iso_region[\"Region\"] = iso_region[\"Region\"].map(norm_region)\n",
    "iso_region = iso_region.dropna().drop_duplicates(\"ISO3\")\n",
    "\n",
    "# -------------------- O: carica i 9 CSV e costruisci indice --------------------\n",
    "long_parts = []\n",
    "for key, fname in COMPONENTS.items():\n",
    "    fpath = O_DIR / fname\n",
    "    if not fpath.exists():\n",
    "        raise SystemExit(f\"File mancante in O/: {fname}\")\n",
    "\n",
    "    d = pd.read_csv(fpath, encoding=\"utf-8-sig\")\n",
    "    year = pick(d, \"Period\",\"TimeDim\",\"Year\")\n",
    "    iso  = pick(d, \"SpatialDimValueCode\",\"ISO3\",\"ISO\")\n",
    "    loc  = pick(d, \"Location\",\"Country\",\"SpatialDim\")\n",
    "    val  = pick(d, \"Value\",\"FactValueNumeric\",\"factvaluenumeric\")\n",
    "\n",
    "    tmp = d[[iso, loc, year, val]].rename(columns={iso:\"ISO3\", loc:\"Country\", year:\"Year\", val:\"Value\"}).copy()\n",
    "    # 'Value' può essere Yes/No o 1/0: normalizziamo\n",
    "    if tmp[\"Value\"].dtype == object:\n",
    "        tmp[\"v\"] = yesno_to_bin(tmp[\"Value\"])\n",
    "    else:\n",
    "        tmp[\"v\"] = pd.to_numeric(tmp[\"Value\"], errors=\"coerce\").fillna(0).clip(0,1).astype(int)\n",
    "\n",
    "    tmp[\"comp\"] = key\n",
    "    tmp[\"Year\"] = pd.to_numeric(tmp[\"Year\"], errors=\"coerce\")\n",
    "    tmp = tmp[(tmp[\"Year\"]>=YEAR_MIN) & (tmp[\"Year\"]<=YEAR_MAX)]\n",
    "    long_parts.append(tmp[[\"ISO3\",\"Country\",\"Year\",\"comp\",\"v\"]])\n",
    "\n",
    "long = pd.concat(long_parts, ignore_index=True)\n",
    "# attacca la Regione OMS\n",
    "long = long.merge(iso_region, on=\"ISO3\", how=\"left\").dropna(subset=[\"Region\"])\n",
    "\n",
    "# indice normalizzato per Paese-anno: (somma v / componenti osservati) * 9\n",
    "by_cy = (long.groupby([\"ISO3\",\"Country\",\"Region\",\"Year\"], observed=True)\n",
    "              .agg(v_sum=(\"v\",\"sum\"), n_obs=(\"v\",\"size\"))\n",
    "              .reset_index())\n",
    "by_cy[\"O_index_norm\"] = (by_cy[\"v_sum\"] / by_cy[\"n_obs\"]) * N_COMPONENTS\n",
    "\n",
    "# -------------------- Aggregazione per Regione-anno (mediana + IQR) --------------------\n",
    "agg = (by_cy.groupby([\"Region\",\"Year\"], observed=True)\n",
    "            .agg(median=(\"O_index_norm\",\"median\"),\n",
    "                 q25=(\"O_index_norm\", lambda s: s.quantile(0.25)),\n",
    "                 q75=(\"O_index_norm\", lambda s: s.quantile(0.75)),\n",
    "                 n_countries=(\"O_index_norm\",\"size\"))\n",
    "            .reset_index())\n",
    "agg[\"Region\"] = pd.Categorical(agg[\"Region\"], categories=REGION_ORDER, ordered=True)\n",
    "agg = agg.sort_values([\"Region\",\"Year\"])\n",
    "\n",
    "# -------------------- Plot --------------------\n",
    "sns.set_theme(style=\"whitegrid\")\n",
    "fig, ax = plt.subplots(figsize=(11.5,6.5), dpi=130)\n",
    "\n",
    "tick_years = list(range(2007, 2023, 2))\n",
    "\n",
    "for reg in REGION_ORDER:\n",
    "    sub = agg[agg[\"Region\"]==reg]\n",
    "    if sub.empty: \n",
    "        continue\n",
    "    c = PALETTE[reg]\n",
    "    # area IQR\n",
    "    ax.fill_between(sub[\"Year\"], sub[\"q25\"], sub[\"q75\"], color=c, alpha=0.12, linewidth=0)\n",
    "    # linea mediana\n",
    "    ax.plot(sub[\"Year\"], sub[\"median\"], color=c, linewidth=2.2, label=reg.replace(\" Region\",\"\"))\n",
    "    # marker sui tick (interpolazione)\n",
    "    s = pd.Series(sub[\"median\"].values, index=sub[\"Year\"].values).sort_index()\n",
    "    s_interp = (s.reindex(sorted(set(s.index).union(tick_years)))\n",
    "                  .interpolate(method=\"index\")\n",
    "                  .reindex(tick_years))\n",
    "    ax.plot(s_interp.index, s_interp.values, linestyle=\"\", marker=\"o\", color=c, markersize=5)\n",
    "\n",
    "ax.set_title(\"Offri aiuto (O) — mediana O-index per Regione OMS (2007–2022)\", fontsize=14, pad=10)\n",
    "ax.set_xlabel(\"Anno\", fontsize=12)\n",
    "ax.set_ylabel(\"O-index (0–9) — mediana fra paesi della Regione\", fontsize=12)\n",
    "ax.set_xlim(2006, 2023)\n",
    "ax.set_xticks(tick_years)\n",
    "ax.set_ylim(0, 9)\n",
    "ax.grid(True, axis=\"y\", alpha=0.25)\n",
    "\n",
    "leg = ax.legend(title=\"Regione OMS\", ncols=1, bbox_to_anchor=(1.02,1), loc=\"upper left\", frameon=True)\n",
    "\n",
    "note = (\"Nota: O-index = quitline (1) + 4 setting + 4 farmaci disponibili. \"\n",
    "        \"Indice normalizzato su 9 componenti per attenuare l’effetto di componenti mancanti \"\n",
    "        \"e poi moltiplicato per 9 per riportarlo su scala 0–9.\\n\"\n",
    "        \"Mediana/IQR calcolati solo sui paesi con dati disponibili nell’anno.\")\n",
    "ax.text(0.01, -0.12, note, transform=ax.transAxes, fontsize=9, va=\"top\", ha=\"left\")\n",
    "\n",
    "plt.tight_layout()\n",
    "out_dir = O_DIR / \"outputs\"\n",
    "out_dir.mkdir(parents=True, exist_ok=True)\n",
    "out_path = out_dir / \"offerhelp_trend_median_by_region.png\"\n",
    "plt.savefig(out_path, bbox_inches=\"tight\")\n",
    "plt.show()\n",
    "print(f\"[salvato] {out_path}\")\n"
   ]
  },
  {
   "cell_type": "code",
   "execution_count": null,
   "id": "2d144384",
   "metadata": {},
   "outputs": [
    {
     "ename": "SystemExit",
     "evalue": "ATTENZIONE: non trovo CSV in ./M per ricavare la regione OMS.",
     "output_type": "error",
     "traceback": [
      "An exception has occurred, use %tb to see the full traceback.\n",
      "\u001b[1;31mSystemExit\u001b[0m\u001b[1;31m:\u001b[0m ATTENZIONE: non trovo CSV in ./M per ricavare la regione OMS.\n"
     ]
    },
    {
     "name": "stderr",
     "output_type": "stream",
     "text": [
      "C:\\Users\\cola0\\AppData\\Roaming\\Python\\Python312\\site-packages\\IPython\\core\\interactiveshell.py:3585: UserWarning:\n",
      "\n",
      "To exit: use 'exit', 'quit', or Ctrl-D.\n",
      "\n"
     ]
    }
   ],
   "source": [
    "# === O — Heatmap: quota di Paesi con ogni componente “Offer help” per Regione OMS (ultimo anno ≤2022) ===\n",
    "import pandas as pd, numpy as np, glob, os, re\n",
    "import seaborn as sns, matplotlib.pyplot as plt\n",
    "from pathlib import Path\n",
    "\n",
    "O_DIR = \"O\"          # cartella con i 9 CSV dell'Offer help\n",
    "M_DIR = \"M\"          # ci serve per mappa ISO3 -> Regione OMS\n",
    "YEAR_MAX = 2022\n",
    "\n",
    "# -------- util --------\n",
    "def yesno_to_bin(s: pd.Series) -> pd.Series:\n",
    "    s = s.astype(str).str.strip().str.lower()\n",
    "    # gestisce anche '1/0', 'true/false', 'legally sold' ecc. (qualsiasi cosa non-yes -> 0)\n",
    "    return s.isin({\"yes\", \"1\", \"true\"}).astype(int)\n",
    "\n",
    "def pick_col(df, *aliases):\n",
    "    cols = {c.lower(): c for c in df.columns}\n",
    "    for a in aliases:\n",
    "        if a.lower() in cols: \n",
    "            return cols[a.lower()]\n",
    "    raise KeyError(f\"Colonna non trovata. Presenti: {list(df.columns)}\")\n",
    "\n",
    "def norm_region(x):\n",
    "    x = str(x).strip().lower()\n",
    "    if x in {\"afr\",\"african region\",\"africa\"}:                          return \"African Region\"\n",
    "    if x in {\"amr\",\"region of the americas\",\"americas\"}:               return \"Region of the Americas\"\n",
    "    if x in {\"emr\",\"eastern mediterranean region\",\"eastern mediterranean\"}: return \"Eastern Mediterranean Region\"\n",
    "    if x in {\"eur\",\"european region\",\"europe\"}:                        return \"European Region\"\n",
    "    if x in {\"sear\",\"south-east asia region\",\"south-east asia\"}:       return \"South-East Asia Region\"\n",
    "    if x in {\"wpr\",\"western pacific region\",\"western pacific\"}:        return \"Western Pacific Region\"\n",
    "    return np.nan\n",
    "\n",
    "def get_iso_region_map_from_M():\n",
    "    # prendo un CSV qualsiasi della sezione M con ISO3 e regione\n",
    "    candidates = sorted(glob.glob(os.path.join(M_DIR, \"*.csv\")))\n",
    "    if not candidates:\n",
    "        raise SystemExit(f\"ATTENZIONE: non trovo CSV in ./{M_DIR} per ricavare la regione OMS.\")\n",
    "    df = pd.read_csv(candidates[0], encoding=\"utf-8-sig\")\n",
    "    iso = pick_col(df, \"SpatialDimValueCode\",\"ISO3\",\"ISO\")\n",
    "    reg = next((c for c in df.columns if c.lower() in {\"parentlocation\",\"who region\",\"who_region\",\"region\"}), None)\n",
    "    if not reg:\n",
    "        raise SystemExit(\"Non trovo la colonna della Regione OMS in M/*.csv\")\n",
    "    out = df[[iso,reg]].dropna().drop_duplicates()\n",
    "    out.columns = [\"ISO3\",\"Region\"]\n",
    "    out[\"Region\"] = out[\"Region\"].map(norm_region)\n",
    "    return out.dropna().drop_duplicates(\"ISO3\")\n",
    "\n",
    "iso_region = get_iso_region_map_from_M()\n",
    "\n",
    "# -------- mappa pattern -> componente --------\n",
    "COMP_PATTERNS = {\n",
    "    \"quitline\"         : r\"quit[_\\- ]?line\",\n",
    "    \"setting_primary\"  : r\"primary[_\\- ]?care|health[_\\- ]?clinics\",\n",
    "    \"setting_hospitals\": r\"hospitals?\",\n",
    "    \"setting_community\": r\"in[_\\- ]the[_\\- ]community\",\n",
    "    \"setting_other\"    : r\"other[_\\- ]settings\",\n",
    "    \"drug_nrt\"         : r\"nicotine[_\\- ]replacement[_\\- ]therapy\",\n",
    "    \"drug_bupropion\"   : r\"bupropion\",\n",
    "    \"drug_varenicline\" : r\"varenicline\",\n",
    "    \"drug_cytisine\"    : r\"cytisine\",\n",
    "}\n",
    "\n",
    "COMP_LABELS = {\n",
    "    \"quitline\"         : \"Quitline\",\n",
    "    \"setting_primary\"  : \"Setting: primary care\",\n",
    "    \"setting_hospitals\": \"Setting: hospitals\",\n",
    "    \"setting_community\": \"Setting: community\",\n",
    "    \"setting_other\"    : \"Setting: other settings\",\n",
    "    \"drug_nrt\"         : \"Drug: NRT\",\n",
    "    \"drug_bupropion\"   : \"Drug: bupropion\",\n",
    "    \"drug_varenicline\" : \"Drug: varenicline\",\n",
    "    \"drug_cytisine\"    : \"Drug: cytisine\",\n",
    "}\n",
    "\n",
    "# -------- trova i file --------\n",
    "all_csv = sorted(glob.glob(os.path.join(O_DIR, \"*.csv\")))\n",
    "found = {}\n",
    "for comp, pat in COMP_PATTERNS.items():\n",
    "    hit = [f for f in all_csv if re.search(pat, os.path.basename(f), flags=re.I)]\n",
    "    if hit:\n",
    "        found[comp] = hit[0]\n",
    "\n",
    "print(\"[diagnostica] file trovati:\")\n",
    "for k,v in found.items(): \n",
    "    print(f\" - {k:17s} -> {os.path.basename(v)}\")\n",
    "missing = [k for k in COMP_PATTERNS if k not in found]\n",
    "if missing:\n",
    "    print(\"\\n[attenzione] mancanti:\", \", \".join(missing))\n",
    "\n",
    "# -------- long per ultimo anno di ogni Paese/componente --------\n",
    "rows = []\n",
    "for comp, path in found.items():\n",
    "    df = pd.read_csv(path, encoding=\"utf-8-sig\")\n",
    "\n",
    "    year = pick_col(df, \"Period\",\"TimeDim\",\"Year\")\n",
    "    iso  = pick_col(df, \"SpatialDimValueCode\",\"ISO3\",\"ISO\")\n",
    "    val  = \"Value\" if \"Value\" in df.columns else (\n",
    "           \"FactValueNumeric\" if \"FactValueNumeric\" in df.columns else None)\n",
    "    if val is None:\n",
    "        raise SystemExit(f\"Nessuna colonna valori in {os.path.basename(path)}\")\n",
    "\n",
    "    tmp = df[[iso, year, val]].copy()\n",
    "    tmp.columns = [\"ISO3\",\"Year\",\"Value\"]\n",
    "    tmp[\"Year\"] = pd.to_numeric(tmp[\"Year\"], errors=\"coerce\")\n",
    "    tmp = tmp[tmp[\"Year\"] <= YEAR_MAX].dropna(subset=[\"ISO3\",\"Year\"])\n",
    "\n",
    "    # normalizzo valore a 0/1\n",
    "    if tmp[\"Value\"].dtype.kind in \"biufc\":\n",
    "        tmp[\"v\"] = (pd.to_numeric(tmp[\"Value\"], errors=\"coerce\").fillna(0) > 0).astype(int)\n",
    "    else:\n",
    "        tmp[\"v\"] = yesno_to_bin(tmp[\"Value\"])\n",
    "\n",
    "    # ultimo anno per Paese\n",
    "    tmp = (tmp.sort_values(\"Year\")\n",
    "               .groupby(\"ISO3\", as_index=False)\n",
    "               .tail(1)[[\"ISO3\",\"Year\",\"v\"]]\n",
    "               .assign(component=comp))\n",
    "    rows.append(tmp)\n",
    "\n",
    "long = pd.concat(rows, ignore_index=True)\n",
    "long = long.merge(iso_region, how=\"left\", on=\"ISO3\").dropna(subset=[\"Region\"])\n",
    "\n",
    "# -------- quota per Regione e componente --------\n",
    "shares = (long.groupby([\"Region\",\"component\"])\n",
    "               .agg(share=(\"v\", lambda s: 100*s.mean()),\n",
    "                    n_countries=(\"v\",\"size\"))\n",
    "               .reset_index())\n",
    "\n",
    "# pivot per heatmap (componenti come righe, regioni come colonne)\n",
    "pivot = (shares.pivot(index=\"component\", columns=\"Region\", values=\"share\")\n",
    "               .reindex(index=list(COMP_LABELS.keys()))\n",
    "               .rename(index=COMP_LABELS)\n",
    "               .fillna(0))\n",
    "\n",
    "# -------- PLOT --------\n",
    "sns.set_theme(style=\"whitegrid\")\n",
    "fig, ax = plt.subplots(figsize=(12, 6.5), dpi=140)\n",
    "\n",
    "sns.heatmap(pivot, annot=True, fmt=\".0f\", cmap=\"Blues\",\n",
    "            cbar_kws={\"label\": \"Quota di Paesi (%)\"}, ax=ax, vmin=0, vmax=100)\n",
    "\n",
    "ax.set_title(\"Offer help (O) — quota di Paesi con componente attiva\\nUltimo dato disponibile ≤ 2022\")\n",
    "ax.set_xlabel(\"Regione OMS\")\n",
    "ax.set_ylabel(\"Componente\")\n",
    "plt.tight_layout()\n",
    "\n",
    "Path(os.path.join(O_DIR,\"outputs\")).mkdir(parents=True, exist_ok=True)\n",
    "out_path = os.path.join(O_DIR, \"outputs\", \"offerhelp_component_heatmap.png\")\n",
    "plt.savefig(out_path, bbox_inches=\"tight\", dpi=160)\n",
    "plt.show()\n",
    "\n",
    "print(\"\\n[DEBUG] Tabella quote (%) per controllo:\\n\")\n",
    "display(pivot.round(0))\n"
   ]
  }
 ],
 "metadata": {
  "kernelspec": {
   "display_name": "base",
   "language": "python",
   "name": "python3"
  },
  "language_info": {
   "codemirror_mode": {
    "name": "ipython",
    "version": 3
   },
   "file_extension": ".py",
   "mimetype": "text/x-python",
   "name": "python",
   "nbconvert_exporter": "python",
   "pygments_lexer": "ipython3",
   "version": "3.12.7"
  }
 },
 "nbformat": 4,
 "nbformat_minor": 5
}

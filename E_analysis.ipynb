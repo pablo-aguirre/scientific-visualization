{
 "cells": [
  {
   "cell_type": "code",
   "id": "initial_id",
   "metadata": {
    "collapsed": true,
    "ExecuteTime": {
     "end_time": "2025-09-23T10:27:12.616254Z",
     "start_time": "2025-09-23T10:27:12.468939Z"
    }
   },
   "source": [
    "import pandas as pd\n",
    "import plotly.express as px\n",
    "\n",
    "# Load data\n",
    "taps = pd.read_csv(\"data/E/gho-tobacco-control-enforce-bans-on-tobacco-advertising-promotion-and-sponsorship.csv\")\n",
    "\n",
    "# Select latest year\n",
    "if \"IsLatestYear\" in taps.columns and taps[\"IsLatestYear\"].any():\n",
    "    latest_year = taps.loc[taps[\"IsLatestYear\"] == True, \"Period\"].max()\n",
    "else:\n",
    "    latest_year = taps[\"Period\"].max()\n",
    "\n",
    "taps_latest = taps[taps[\"Period\"] == latest_year].copy()\n",
    "\n",
    "# Level labels\n",
    "level_labels = {\n",
    "    2: \"Level 2 — incomplete bans on TV/radio/press\",\n",
    "    3: \"Level 3 — complete ban on TV/radio/press\",\n",
    "    4: \"Level 4 — complete ban (TV/radio/press) + additional channels\",\n",
    "    5: \"Level 5 — complete TAPS ban (all forms)\",\n",
    "}\n",
    "category_order = [level_labels[k] for k in sorted(level_labels.keys())]\n",
    "\n",
    "# Prepare columns\n",
    "taps_latest = taps_latest[[\"Location\", \"ParentLocation\", \"SpatialDimValueCode\", \"Period\", \"Value\"]].rename(\n",
    "    columns={\"SpatialDimValueCode\": \"ISO3\", \"Value\": \"TAPS_level\"}\n",
    ")\n",
    "taps_latest[\"TAPS_label\"] = taps_latest[\"TAPS_level\"].map(level_labels)\n",
    "taps_latest[\"TAPS_label\"] = pd.Categorical(taps_latest[\"TAPS_label\"], categories=category_order, ordered=True)\n",
    "\n",
    "# Custom color map (blue shades)\n",
    "color_discrete_map = {\n",
    "    category_order[0]: \"#f9e79f\",  # light yellow\n",
    "    category_order[1]: \"#f7b731\",  # orange\n",
    "    category_order[2]: \"#e67e22\",  # dark orange\n",
    "    category_order[3]: \"#229954\",  # green\n",
    "}\n",
    "\n",
    "# Choropleth map with all levels in legend\n",
    "fig = px.choropleth(\n",
    "    taps_latest,\n",
    "    locations=\"ISO3\",\n",
    "    color=\"TAPS_label\",\n",
    "    hover_name=\"Location\",\n",
    "    hover_data={\"ISO3\": True, \"ParentLocation\": True, \"TAPS_level\": True, \"TAPS_label\": True},\n",
    "    title=f\"TAPS coverage index — latest available year ({latest_year})\",\n",
    "    category_orders={\"TAPS_label\": category_order},\n",
    "    labels={\"TAPS_label\": \"TAPS policy level\"},\n",
    "    color_discrete_map=color_discrete_map\n",
    ")\n",
    "fig.update_layout(legend_title_text=\"TAPS policy level\")\n",
    "fig.show()"
   ],
   "outputs": [
    {
     "data": {
      "application/vnd.plotly.v1+json": {
       "data": [
        {
         "colorscale": [
          [
           0.0,
           "#f9e79f"
          ],
          [
           1.0,
           "#f9e79f"
          ]
         ],
         "customdata": [
          [
           "AND",
           "Europe",
           2,
           "Level 2 — incomplete bans on TV/radio/press"
          ],
          [
           "BHS",
           "Americas",
           2,
           "Level 2 — incomplete bans on TV/radio/press"
          ],
          [
           "BRB",
           "Americas",
           2,
           "Level 2 — incomplete bans on TV/radio/press"
          ],
          [
           "BLZ",
           "Americas",
           2,
           "Level 2 — incomplete bans on TV/radio/press"
          ],
          [
           "BIH",
           "Europe",
           2,
           "Level 2 — incomplete bans on TV/radio/press"
          ],
          [
           "CAF",
           "Africa",
           2,
           "Level 2 — incomplete bans on TV/radio/press"
          ],
          [
           "COM",
           "Africa",
           2,
           "Level 2 — incomplete bans on TV/radio/press"
          ],
          [
           "CUB",
           "Americas",
           2,
           "Level 2 — incomplete bans on TV/radio/press"
          ],
          [
           "PRK",
           "South-East Asia",
           2,
           "Level 2 — incomplete bans on TV/radio/press"
          ],
          [
           "DMA",
           "Americas",
           2,
           "Level 2 — incomplete bans on TV/radio/press"
          ],
          [
           "DOM",
           "Americas",
           2,
           "Level 2 — incomplete bans on TV/radio/press"
          ],
          [
           "GNQ",
           "Africa",
           2,
           "Level 2 — incomplete bans on TV/radio/press"
          ],
          [
           "GRD",
           "Americas",
           2,
           "Level 2 — incomplete bans on TV/radio/press"
          ],
          [
           "GTM",
           "Americas",
           2,
           "Level 2 — incomplete bans on TV/radio/press"
          ],
          [
           "GNB",
           "Africa",
           2,
           "Level 2 — incomplete bans on TV/radio/press"
          ],
          [
           "HTI",
           "Americas",
           2,
           "Level 2 — incomplete bans on TV/radio/press"
          ],
          [
           "IDN",
           "South-East Asia",
           2,
           "Level 2 — incomplete bans on TV/radio/press"
          ],
          [
           "ISR",
           "Europe",
           2,
           "Level 2 — incomplete bans on TV/radio/press"
          ],
          [
           "JAM",
           "Americas",
           2,
           "Level 2 — incomplete bans on TV/radio/press"
          ],
          [
           "JPN",
           "Western Pacific",
           2,
           "Level 2 — incomplete bans on TV/radio/press"
          ],
          [
           "LSO",
           "Africa",
           2,
           "Level 2 — incomplete bans on TV/radio/press"
          ],
          [
           "LBR",
           "Africa",
           2,
           "Level 2 — incomplete bans on TV/radio/press"
          ],
          [
           "MWI",
           "Africa",
           2,
           "Level 2 — incomplete bans on TV/radio/press"
          ],
          [
           "MHL",
           "Western Pacific",
           2,
           "Level 2 — incomplete bans on TV/radio/press"
          ],
          [
           "MCO",
           "Europe",
           2,
           "Level 2 — incomplete bans on TV/radio/press"
          ],
          [
           "NIC",
           "Americas",
           2,
           "Level 2 — incomplete bans on TV/radio/press"
          ],
          [
           "PER",
           "Americas",
           2,
           "Level 2 — incomplete bans on TV/radio/press"
          ],
          [
           "KOR",
           "Western Pacific",
           2,
           "Level 2 — incomplete bans on TV/radio/press"
          ],
          [
           "RWA",
           "Africa",
           2,
           "Level 2 — incomplete bans on TV/radio/press"
          ],
          [
           "KNA",
           "Americas",
           2,
           "Level 2 — incomplete bans on TV/radio/press"
          ],
          [
           "LCA",
           "Americas",
           2,
           "Level 2 — incomplete bans on TV/radio/press"
          ],
          [
           "VCT",
           "Americas",
           2,
           "Level 2 — incomplete bans on TV/radio/press"
          ],
          [
           "SLE",
           "Africa",
           2,
           "Level 2 — incomplete bans on TV/radio/press"
          ],
          [
           "SOM",
           "Eastern Mediterranean",
           2,
           "Level 2 — incomplete bans on TV/radio/press"
          ],
          [
           "SSD",
           "Africa",
           2,
           "Level 2 — incomplete bans on TV/radio/press"
          ],
          [
           "CHE",
           "Europe",
           2,
           "Level 2 — incomplete bans on TV/radio/press"
          ],
          [
           "TTO",
           "Americas",
           2,
           "Level 2 — incomplete bans on TV/radio/press"
          ],
          [
           "USA",
           "Americas",
           2,
           "Level 2 — incomplete bans on TV/radio/press"
          ],
          [
           "ZMB",
           "Africa",
           2,
           "Level 2 — incomplete bans on TV/radio/press"
          ],
          [
           "ZWE",
           "Africa",
           2,
           "Level 2 — incomplete bans on TV/radio/press"
          ]
         ],
         "geo": "geo",
         "hovertemplate": "<b>%{hovertext}</b><br><br>TAPS policy level=%{customdata[3]}<br>ISO3=%{customdata[0]}<br>ParentLocation=%{customdata[1]}<br>TAPS_level=%{customdata[2]}<extra></extra>",
         "hovertext": [
          "Andorra",
          "Bahamas",
          "Barbados",
          "Belize",
          "Bosnia and Herzegovina",
          "Central African Republic",
          "Comoros",
          "Cuba",
          "Democratic People's Republic of Korea",
          "Dominica",
          "Dominican Republic",
          "Equatorial Guinea",
          "Grenada",
          "Guatemala",
          "Guinea-Bissau",
          "Haiti",
          "Indonesia",
          "Israel",
          "Jamaica",
          "Japan",
          "Lesotho",
          "Liberia",
          "Malawi",
          "Marshall Islands",
          "Monaco",
          "Nicaragua",
          "Peru",
          "Republic of Korea",
          "Rwanda",
          "Saint Kitts and Nevis",
          "Saint Lucia",
          "Saint Vincent and the Grenadines",
          "Sierra Leone",
          "Somalia",
          "South Sudan",
          "Switzerland",
          "Trinidad and Tobago",
          "United States of America",
          "Zambia",
          "Zimbabwe"
         ],
         "locations": [
          "AND",
          "BHS",
          "BRB",
          "BLZ",
          "BIH",
          "CAF",
          "COM",
          "CUB",
          "PRK",
          "DMA",
          "DOM",
          "GNQ",
          "GRD",
          "GTM",
          "GNB",
          "HTI",
          "IDN",
          "ISR",
          "JAM",
          "JPN",
          "LSO",
          "LBR",
          "MWI",
          "MHL",
          "MCO",
          "NIC",
          "PER",
          "KOR",
          "RWA",
          "KNA",
          "LCA",
          "VCT",
          "SLE",
          "SOM",
          "SSD",
          "CHE",
          "TTO",
          "USA",
          "ZMB",
          "ZWE"
         ],
         "name": "Level 2 — incomplete bans on TV/radio/press",
         "showlegend": true,
         "showscale": false,
         "z": [
          1,
          1,
          1,
          1,
          1,
          1,
          1,
          1,
          1,
          1,
          1,
          1,
          1,
          1,
          1,
          1,
          1,
          1,
          1,
          1,
          1,
          1,
          1,
          1,
          1,
          1,
          1,
          1,
          1,
          1,
          1,
          1,
          1,
          1,
          1,
          1,
          1,
          1,
          1,
          1
         ],
         "type": "choropleth"
        },
        {
         "colorscale": [
          [
           0.0,
           "#e67e22"
          ],
          [
           1.0,
           "#e67e22"
          ]
         ],
         "customdata": [
          [
           "AGO",
           "Africa",
           4,
           "Level 4 — complete ban (TV/radio/press) + additional channels"
          ],
          [
           "ARG",
           "Americas",
           4,
           "Level 4 — complete ban (TV/radio/press) + additional channels"
          ],
          [
           "AUS",
           "Western Pacific",
           4,
           "Level 4 — complete ban (TV/radio/press) + additional channels"
          ],
          [
           "AUT",
           "Europe",
           4,
           "Level 4 — complete ban (TV/radio/press) + additional channels"
          ],
          [
           "BGD",
           "South-East Asia",
           4,
           "Level 4 — complete ban (TV/radio/press) + additional channels"
          ],
          [
           "BLR",
           "Europe",
           4,
           "Level 4 — complete ban (TV/radio/press) + additional channels"
          ],
          [
           "BEL",
           "Europe",
           4,
           "Level 4 — complete ban (TV/radio/press) + additional channels"
          ],
          [
           "BTN",
           "South-East Asia",
           4,
           "Level 4 — complete ban (TV/radio/press) + additional channels"
          ],
          [
           "BOL",
           "Americas",
           4,
           "Level 4 — complete ban (TV/radio/press) + additional channels"
          ],
          [
           "BWA",
           "Africa",
           4,
           "Level 4 — complete ban (TV/radio/press) + additional channels"
          ],
          [
           "BRN",
           "Western Pacific",
           4,
           "Level 4 — complete ban (TV/radio/press) + additional channels"
          ],
          [
           "BGR",
           "Europe",
           4,
           "Level 4 — complete ban (TV/radio/press) + additional channels"
          ],
          [
           "BFA",
           "Africa",
           4,
           "Level 4 — complete ban (TV/radio/press) + additional channels"
          ],
          [
           "BDI",
           "Africa",
           4,
           "Level 4 — complete ban (TV/radio/press) + additional channels"
          ],
          [
           "KHM",
           "Western Pacific",
           4,
           "Level 4 — complete ban (TV/radio/press) + additional channels"
          ],
          [
           "CMR",
           "Africa",
           4,
           "Level 4 — complete ban (TV/radio/press) + additional channels"
          ],
          [
           "CAN",
           "Americas",
           4,
           "Level 4 — complete ban (TV/radio/press) + additional channels"
          ],
          [
           "CHL",
           "Americas",
           4,
           "Level 4 — complete ban (TV/radio/press) + additional channels"
          ],
          [
           "CHN",
           "Western Pacific",
           4,
           "Level 4 — complete ban (TV/radio/press) + additional channels"
          ],
          [
           "COK",
           "Western Pacific",
           4,
           "Level 4 — complete ban (TV/radio/press) + additional channels"
          ],
          [
           "CRI",
           "Americas",
           4,
           "Level 4 — complete ban (TV/radio/press) + additional channels"
          ],
          [
           "HRV",
           "Europe",
           4,
           "Level 4 — complete ban (TV/radio/press) + additional channels"
          ],
          [
           "CYP",
           "Europe",
           4,
           "Level 4 — complete ban (TV/radio/press) + additional channels"
          ],
          [
           "CZE",
           "Europe",
           4,
           "Level 4 — complete ban (TV/radio/press) + additional channels"
          ],
          [
           "DNK",
           "Europe",
           4,
           "Level 4 — complete ban (TV/radio/press) + additional channels"
          ],
          [
           "ECU",
           "Americas",
           4,
           "Level 4 — complete ban (TV/radio/press) + additional channels"
          ],
          [
           "EGY",
           "Eastern Mediterranean",
           4,
           "Level 4 — complete ban (TV/radio/press) + additional channels"
          ],
          [
           "SLV",
           "Americas",
           4,
           "Level 4 — complete ban (TV/radio/press) + additional channels"
          ],
          [
           "EST",
           "Europe",
           4,
           "Level 4 — complete ban (TV/radio/press) + additional channels"
          ],
          [
           "SWZ",
           "Africa",
           4,
           "Level 4 — complete ban (TV/radio/press) + additional channels"
          ],
          [
           "FJI",
           "Western Pacific",
           4,
           "Level 4 — complete ban (TV/radio/press) + additional channels"
          ],
          [
           "FRA",
           "Europe",
           4,
           "Level 4 — complete ban (TV/radio/press) + additional channels"
          ],
          [
           "GAB",
           "Africa",
           4,
           "Level 4 — complete ban (TV/radio/press) + additional channels"
          ],
          [
           "GEO",
           "Europe",
           4,
           "Level 4 — complete ban (TV/radio/press) + additional channels"
          ],
          [
           "DEU",
           "Europe",
           4,
           "Level 4 — complete ban (TV/radio/press) + additional channels"
          ],
          [
           "GRC",
           "Europe",
           4,
           "Level 4 — complete ban (TV/radio/press) + additional channels"
          ],
          [
           "HND",
           "Americas",
           4,
           "Level 4 — complete ban (TV/radio/press) + additional channels"
          ],
          [
           "HUN",
           "Europe",
           4,
           "Level 4 — complete ban (TV/radio/press) + additional channels"
          ],
          [
           "IND",
           "South-East Asia",
           4,
           "Level 4 — complete ban (TV/radio/press) + additional channels"
          ],
          [
           "IRL",
           "Europe",
           4,
           "Level 4 — complete ban (TV/radio/press) + additional channels"
          ],
          [
           "ITA",
           "Europe",
           4,
           "Level 4 — complete ban (TV/radio/press) + additional channels"
          ],
          [
           "KAZ",
           "Europe",
           4,
           "Level 4 — complete ban (TV/radio/press) + additional channels"
          ],
          [
           "LVA",
           "Europe",
           4,
           "Level 4 — complete ban (TV/radio/press) + additional channels"
          ],
          [
           "LBN",
           "Eastern Mediterranean",
           4,
           "Level 4 — complete ban (TV/radio/press) + additional channels"
          ],
          [
           "LTU",
           "Europe",
           4,
           "Level 4 — complete ban (TV/radio/press) + additional channels"
          ],
          [
           "LUX",
           "Europe",
           4,
           "Level 4 — complete ban (TV/radio/press) + additional channels"
          ],
          [
           "MYS",
           "Western Pacific",
           4,
           "Level 4 — complete ban (TV/radio/press) + additional channels"
          ],
          [
           "MLI",
           "Africa",
           4,
           "Level 4 — complete ban (TV/radio/press) + additional channels"
          ],
          [
           "MLT",
           "Europe",
           4,
           "Level 4 — complete ban (TV/radio/press) + additional channels"
          ],
          [
           "FSM",
           "Western Pacific",
           4,
           "Level 4 — complete ban (TV/radio/press) + additional channels"
          ],
          [
           "MNE",
           "Europe",
           4,
           "Level 4 — complete ban (TV/radio/press) + additional channels"
          ],
          [
           "MAR",
           "Eastern Mediterranean",
           4,
           "Level 4 — complete ban (TV/radio/press) + additional channels"
          ],
          [
           "MOZ",
           "Africa",
           4,
           "Level 4 — complete ban (TV/radio/press) + additional channels"
          ],
          [
           "MMR",
           "South-East Asia",
           4,
           "Level 4 — complete ban (TV/radio/press) + additional channels"
          ],
          [
           "NAM",
           "Africa",
           4,
           "Level 4 — complete ban (TV/radio/press) + additional channels"
          ],
          [
           "NRU",
           "Western Pacific",
           4,
           "Level 4 — complete ban (TV/radio/press) + additional channels"
          ],
          [
           "NZL",
           "Western Pacific",
           4,
           "Level 4 — complete ban (TV/radio/press) + additional channels"
          ],
          [
           "MKD",
           "Europe",
           4,
           "Level 4 — complete ban (TV/radio/press) + additional channels"
          ],
          [
           "NOR",
           "Europe",
           4,
           "Level 4 — complete ban (TV/radio/press) + additional channels"
          ],
          [
           "OMN",
           "Eastern Mediterranean",
           4,
           "Level 4 — complete ban (TV/radio/press) + additional channels"
          ],
          [
           "PAK",
           "Eastern Mediterranean",
           4,
           "Level 4 — complete ban (TV/radio/press) + additional channels"
          ],
          [
           "PLW",
           "Western Pacific",
           4,
           "Level 4 — complete ban (TV/radio/press) + additional channels"
          ],
          [
           "PNG",
           "Western Pacific",
           4,
           "Level 4 — complete ban (TV/radio/press) + additional channels"
          ],
          [
           "PRY",
           "Americas",
           4,
           "Level 4 — complete ban (TV/radio/press) + additional channels"
          ],
          [
           "PHL",
           "Western Pacific",
           4,
           "Level 4 — complete ban (TV/radio/press) + additional channels"
          ],
          [
           "POL",
           "Europe",
           4,
           "Level 4 — complete ban (TV/radio/press) + additional channels"
          ],
          [
           "PRT",
           "Europe",
           4,
           "Level 4 — complete ban (TV/radio/press) + additional channels"
          ],
          [
           "ROU",
           "Europe",
           4,
           "Level 4 — complete ban (TV/radio/press) + additional channels"
          ],
          [
           "WSM",
           "Western Pacific",
           4,
           "Level 4 — complete ban (TV/radio/press) + additional channels"
          ],
          [
           "SMR",
           "Europe",
           4,
           "Level 4 — complete ban (TV/radio/press) + additional channels"
          ],
          [
           "STP",
           "Africa",
           4,
           "Level 4 — complete ban (TV/radio/press) + additional channels"
          ],
          [
           "SRB",
           "Europe",
           4,
           "Level 4 — complete ban (TV/radio/press) + additional channels"
          ],
          [
           "SGP",
           "Western Pacific",
           4,
           "Level 4 — complete ban (TV/radio/press) + additional channels"
          ],
          [
           "SVK",
           "Europe",
           4,
           "Level 4 — complete ban (TV/radio/press) + additional channels"
          ],
          [
           "SLB",
           "Western Pacific",
           4,
           "Level 4 — complete ban (TV/radio/press) + additional channels"
          ],
          [
           "ZAF",
           "Africa",
           4,
           "Level 4 — complete ban (TV/radio/press) + additional channels"
          ],
          [
           "LKA",
           "South-East Asia",
           4,
           "Level 4 — complete ban (TV/radio/press) + additional channels"
          ],
          [
           "SWE",
           "Europe",
           4,
           "Level 4 — complete ban (TV/radio/press) + additional channels"
          ],
          [
           "SYR",
           "Eastern Mediterranean",
           4,
           "Level 4 — complete ban (TV/radio/press) + additional channels"
          ],
          [
           "TJK",
           "Europe",
           4,
           "Level 4 — complete ban (TV/radio/press) + additional channels"
          ],
          [
           "THA",
           "South-East Asia",
           4,
           "Level 4 — complete ban (TV/radio/press) + additional channels"
          ],
          [
           "TLS",
           "South-East Asia",
           4,
           "Level 4 — complete ban (TV/radio/press) + additional channels"
          ],
          [
           "TON",
           "Western Pacific",
           4,
           "Level 4 — complete ban (TV/radio/press) + additional channels"
          ],
          [
           "TUN",
           "Eastern Mediterranean",
           4,
           "Level 4 — complete ban (TV/radio/press) + additional channels"
          ],
          [
           "TKM",
           "Europe",
           4,
           "Level 4 — complete ban (TV/radio/press) + additional channels"
          ],
          [
           "GBR",
           "Europe",
           4,
           "Level 4 — complete ban (TV/radio/press) + additional channels"
          ],
          [
           "TZA",
           "Africa",
           4,
           "Level 4 — complete ban (TV/radio/press) + additional channels"
          ],
          [
           "UZB",
           "Europe",
           4,
           "Level 4 — complete ban (TV/radio/press) + additional channels"
          ],
          [
           "VNM",
           "Western Pacific",
           4,
           "Level 4 — complete ban (TV/radio/press) + additional channels"
          ]
         ],
         "geo": "geo",
         "hovertemplate": "<b>%{hovertext}</b><br><br>TAPS policy level=%{customdata[3]}<br>ISO3=%{customdata[0]}<br>ParentLocation=%{customdata[1]}<br>TAPS_level=%{customdata[2]}<extra></extra>",
         "hovertext": [
          "Angola",
          "Argentina",
          "Australia",
          "Austria",
          "Bangladesh",
          "Belarus",
          "Belgium",
          "Bhutan",
          "Bolivia (Plurinational State of)",
          "Botswana",
          "Brunei Darussalam",
          "Bulgaria",
          "Burkina Faso",
          "Burundi",
          "Cambodia",
          "Cameroon",
          "Canada",
          "Chile",
          "China",
          "Cook Islands",
          "Costa Rica",
          "Croatia",
          "Cyprus",
          "Czechia",
          "Denmark",
          "Ecuador",
          "Egypt",
          "El Salvador",
          "Estonia",
          "Eswatini",
          "Fiji",
          "France",
          "Gabon",
          "Georgia",
          "Germany",
          "Greece",
          "Honduras",
          "Hungary",
          "India",
          "Ireland",
          "Italy",
          "Kazakhstan",
          "Latvia",
          "Lebanon",
          "Lithuania",
          "Luxembourg",
          "Malaysia",
          "Mali",
          "Malta",
          "Micronesia (Federated States of)",
          "Montenegro",
          "Morocco",
          "Mozambique",
          "Myanmar",
          "Namibia",
          "Nauru",
          "New Zealand",
          "North Macedonia",
          "Norway",
          "Oman",
          "Pakistan",
          "Palau",
          "Papua New Guinea",
          "Paraguay",
          "Philippines",
          "Poland",
          "Portugal",
          "Romania",
          "Samoa",
          "San Marino",
          "Sao Tome and Principe",
          "Serbia",
          "Singapore",
          "Slovakia",
          "Solomon Islands",
          "South Africa",
          "Sri Lanka",
          "Sweden",
          "Syrian Arab Republic",
          "Tajikistan",
          "Thailand",
          "Timor-Leste",
          "Tonga",
          "Tunisia",
          "Turkmenistan",
          "United Kingdom of Great Britain and Northern Ireland",
          "United Republic of Tanzania",
          "Uzbekistan",
          "Viet Nam"
         ],
         "locations": [
          "AGO",
          "ARG",
          "AUS",
          "AUT",
          "BGD",
          "BLR",
          "BEL",
          "BTN",
          "BOL",
          "BWA",
          "BRN",
          "BGR",
          "BFA",
          "BDI",
          "KHM",
          "CMR",
          "CAN",
          "CHL",
          "CHN",
          "COK",
          "CRI",
          "HRV",
          "CYP",
          "CZE",
          "DNK",
          "ECU",
          "EGY",
          "SLV",
          "EST",
          "SWZ",
          "FJI",
          "FRA",
          "GAB",
          "GEO",
          "DEU",
          "GRC",
          "HND",
          "HUN",
          "IND",
          "IRL",
          "ITA",
          "KAZ",
          "LVA",
          "LBN",
          "LTU",
          "LUX",
          "MYS",
          "MLI",
          "MLT",
          "FSM",
          "MNE",
          "MAR",
          "MOZ",
          "MMR",
          "NAM",
          "NRU",
          "NZL",
          "MKD",
          "NOR",
          "OMN",
          "PAK",
          "PLW",
          "PNG",
          "PRY",
          "PHL",
          "POL",
          "PRT",
          "ROU",
          "WSM",
          "SMR",
          "STP",
          "SRB",
          "SGP",
          "SVK",
          "SLB",
          "ZAF",
          "LKA",
          "SWE",
          "SYR",
          "TJK",
          "THA",
          "TLS",
          "TON",
          "TUN",
          "TKM",
          "GBR",
          "TZA",
          "UZB",
          "VNM"
         ],
         "name": "Level 4 — complete ban (TV/radio/press) + additional channels",
         "showlegend": true,
         "showscale": false,
         "z": [
          1,
          1,
          1,
          1,
          1,
          1,
          1,
          1,
          1,
          1,
          1,
          1,
          1,
          1,
          1,
          1,
          1,
          1,
          1,
          1,
          1,
          1,
          1,
          1,
          1,
          1,
          1,
          1,
          1,
          1,
          1,
          1,
          1,
          1,
          1,
          1,
          1,
          1,
          1,
          1,
          1,
          1,
          1,
          1,
          1,
          1,
          1,
          1,
          1,
          1,
          1,
          1,
          1,
          1,
          1,
          1,
          1,
          1,
          1,
          1,
          1,
          1,
          1,
          1,
          1,
          1,
          1,
          1,
          1,
          1,
          1,
          1,
          1,
          1,
          1,
          1,
          1,
          1,
          1,
          1,
          1,
          1,
          1,
          1,
          1,
          1,
          1,
          1,
          1
         ],
         "type": "choropleth"
        },
        {
         "colorscale": [
          [
           0.0,
           "#229954"
          ],
          [
           1.0,
           "#229954"
          ]
         ],
         "customdata": [
          [
           "AFG",
           "Eastern Mediterranean",
           5,
           "Level 5 — complete TAPS ban (all forms)"
          ],
          [
           "ALB",
           "Europe",
           5,
           "Level 5 — complete TAPS ban (all forms)"
          ],
          [
           "DZA",
           "Africa",
           5,
           "Level 5 — complete TAPS ban (all forms)"
          ],
          [
           "ATG",
           "Americas",
           5,
           "Level 5 — complete TAPS ban (all forms)"
          ],
          [
           "ARM",
           "Europe",
           5,
           "Level 5 — complete TAPS ban (all forms)"
          ],
          [
           "AZE",
           "Europe",
           5,
           "Level 5 — complete TAPS ban (all forms)"
          ],
          [
           "BHR",
           "Eastern Mediterranean",
           5,
           "Level 5 — complete TAPS ban (all forms)"
          ],
          [
           "BEN",
           "Africa",
           5,
           "Level 5 — complete TAPS ban (all forms)"
          ],
          [
           "BRA",
           "Americas",
           5,
           "Level 5 — complete TAPS ban (all forms)"
          ],
          [
           "CIV",
           "Africa",
           5,
           "Level 5 — complete TAPS ban (all forms)"
          ],
          [
           "CPV",
           "Africa",
           5,
           "Level 5 — complete TAPS ban (all forms)"
          ],
          [
           "TCD",
           "Africa",
           5,
           "Level 5 — complete TAPS ban (all forms)"
          ],
          [
           "COL",
           "Americas",
           5,
           "Level 5 — complete TAPS ban (all forms)"
          ],
          [
           "COG",
           "Africa",
           5,
           "Level 5 — complete TAPS ban (all forms)"
          ],
          [
           "COD",
           "Africa",
           5,
           "Level 5 — complete TAPS ban (all forms)"
          ],
          [
           "DJI",
           "Eastern Mediterranean",
           5,
           "Level 5 — complete TAPS ban (all forms)"
          ],
          [
           "ERI",
           "Africa",
           5,
           "Level 5 — complete TAPS ban (all forms)"
          ],
          [
           "ETH",
           "Africa",
           5,
           "Level 5 — complete TAPS ban (all forms)"
          ],
          [
           "FIN",
           "Europe",
           5,
           "Level 5 — complete TAPS ban (all forms)"
          ],
          [
           "GMB",
           "Africa",
           5,
           "Level 5 — complete TAPS ban (all forms)"
          ],
          [
           "GHA",
           "Africa",
           5,
           "Level 5 — complete TAPS ban (all forms)"
          ],
          [
           "GIN",
           "Africa",
           5,
           "Level 5 — complete TAPS ban (all forms)"
          ],
          [
           "GUY",
           "Americas",
           5,
           "Level 5 — complete TAPS ban (all forms)"
          ],
          [
           "ISL",
           "Europe",
           5,
           "Level 5 — complete TAPS ban (all forms)"
          ],
          [
           "IRN",
           "Eastern Mediterranean",
           5,
           "Level 5 — complete TAPS ban (all forms)"
          ],
          [
           "IRQ",
           "Eastern Mediterranean",
           5,
           "Level 5 — complete TAPS ban (all forms)"
          ],
          [
           "JOR",
           "Eastern Mediterranean",
           5,
           "Level 5 — complete TAPS ban (all forms)"
          ],
          [
           "KEN",
           "Africa",
           5,
           "Level 5 — complete TAPS ban (all forms)"
          ],
          [
           "KIR",
           "Western Pacific",
           5,
           "Level 5 — complete TAPS ban (all forms)"
          ],
          [
           "KWT",
           "Eastern Mediterranean",
           5,
           "Level 5 — complete TAPS ban (all forms)"
          ],
          [
           "KGZ",
           "Europe",
           5,
           "Level 5 — complete TAPS ban (all forms)"
          ],
          [
           "LAO",
           "Western Pacific",
           5,
           "Level 5 — complete TAPS ban (all forms)"
          ],
          [
           "LBY",
           "Eastern Mediterranean",
           5,
           "Level 5 — complete TAPS ban (all forms)"
          ],
          [
           "MDG",
           "Africa",
           5,
           "Level 5 — complete TAPS ban (all forms)"
          ],
          [
           "MDV",
           "South-East Asia",
           5,
           "Level 5 — complete TAPS ban (all forms)"
          ],
          [
           "MRT",
           "Africa",
           5,
           "Level 5 — complete TAPS ban (all forms)"
          ],
          [
           "MUS",
           "Africa",
           5,
           "Level 5 — complete TAPS ban (all forms)"
          ],
          [
           "MEX",
           "Americas",
           5,
           "Level 5 — complete TAPS ban (all forms)"
          ],
          [
           "MNG",
           "Western Pacific",
           5,
           "Level 5 — complete TAPS ban (all forms)"
          ],
          [
           "NPL",
           "South-East Asia",
           5,
           "Level 5 — complete TAPS ban (all forms)"
          ],
          [
           "NLD",
           "Europe",
           5,
           "Level 5 — complete TAPS ban (all forms)"
          ],
          [
           "NER",
           "Africa",
           5,
           "Level 5 — complete TAPS ban (all forms)"
          ],
          [
           "NGA",
           "Africa",
           5,
           "Level 5 — complete TAPS ban (all forms)"
          ],
          [
           "NIU",
           "Western Pacific",
           5,
           "Level 5 — complete TAPS ban (all forms)"
          ],
          [
           "PSE",
           "Eastern Mediterranean",
           5,
           "Level 5 — complete TAPS ban (all forms)"
          ],
          [
           "PAN",
           "Americas",
           5,
           "Level 5 — complete TAPS ban (all forms)"
          ],
          [
           "QAT",
           "Eastern Mediterranean",
           5,
           "Level 5 — complete TAPS ban (all forms)"
          ],
          [
           "MDA",
           "Europe",
           5,
           "Level 5 — complete TAPS ban (all forms)"
          ],
          [
           "RUS",
           "Europe",
           5,
           "Level 5 — complete TAPS ban (all forms)"
          ],
          [
           "SAU",
           "Eastern Mediterranean",
           5,
           "Level 5 — complete TAPS ban (all forms)"
          ],
          [
           "SEN",
           "Africa",
           5,
           "Level 5 — complete TAPS ban (all forms)"
          ],
          [
           "SYC",
           "Africa",
           5,
           "Level 5 — complete TAPS ban (all forms)"
          ],
          [
           "SVN",
           "Europe",
           5,
           "Level 5 — complete TAPS ban (all forms)"
          ],
          [
           "ESP",
           "Europe",
           5,
           "Level 5 — complete TAPS ban (all forms)"
          ],
          [
           "SDN",
           "Eastern Mediterranean",
           5,
           "Level 5 — complete TAPS ban (all forms)"
          ],
          [
           "SUR",
           "Americas",
           5,
           "Level 5 — complete TAPS ban (all forms)"
          ],
          [
           "TUR",
           "Europe",
           5,
           "Level 5 — complete TAPS ban (all forms)"
          ],
          [
           "TGO",
           "Africa",
           5,
           "Level 5 — complete TAPS ban (all forms)"
          ],
          [
           "TUV",
           "Western Pacific",
           5,
           "Level 5 — complete TAPS ban (all forms)"
          ],
          [
           "UGA",
           "Africa",
           5,
           "Level 5 — complete TAPS ban (all forms)"
          ],
          [
           "UKR",
           "Europe",
           5,
           "Level 5 — complete TAPS ban (all forms)"
          ],
          [
           "ARE",
           "Eastern Mediterranean",
           5,
           "Level 5 — complete TAPS ban (all forms)"
          ],
          [
           "URY",
           "Americas",
           5,
           "Level 5 — complete TAPS ban (all forms)"
          ],
          [
           "VUT",
           "Western Pacific",
           5,
           "Level 5 — complete TAPS ban (all forms)"
          ],
          [
           "VEN",
           "Americas",
           5,
           "Level 5 — complete TAPS ban (all forms)"
          ],
          [
           "YEM",
           "Eastern Mediterranean",
           5,
           "Level 5 — complete TAPS ban (all forms)"
          ]
         ],
         "geo": "geo",
         "hovertemplate": "<b>%{hovertext}</b><br><br>TAPS policy level=%{customdata[3]}<br>ISO3=%{customdata[0]}<br>ParentLocation=%{customdata[1]}<br>TAPS_level=%{customdata[2]}<extra></extra>",
         "hovertext": [
          "Afghanistan",
          "Albania",
          "Algeria",
          "Antigua and Barbuda",
          "Armenia",
          "Azerbaijan",
          "Bahrain",
          "Benin",
          "Brazil",
          "Cote d'Ivoire",
          "Cabo Verde",
          "Chad",
          "Colombia",
          "Congo",
          "Democratic Republic of the Congo",
          "Djibouti",
          "Eritrea",
          "Ethiopia",
          "Finland",
          "Gambia",
          "Ghana",
          "Guinea",
          "Guyana",
          "Iceland",
          "Iran (Islamic Republic of)",
          "Iraq",
          "Jordan",
          "Kenya",
          "Kiribati",
          "Kuwait",
          "Kyrgyzstan",
          "Lao People's Democratic Republic",
          "Libya",
          "Madagascar",
          "Maldives",
          "Mauritania",
          "Mauritius",
          "Mexico",
          "Mongolia",
          "Nepal",
          "Netherlands (Kingdom of the)",
          "Niger",
          "Nigeria",
          "Niue",
          "occupied Palestinian territory, including east Jerusalem",
          "Panama",
          "Qatar",
          "Republic of Moldova",
          "Russian Federation",
          "Saudi Arabia",
          "Senegal",
          "Seychelles",
          "Slovenia",
          "Spain",
          "Sudan",
          "Suriname",
          "Türkiye",
          "Togo",
          "Tuvalu",
          "Uganda",
          "Ukraine",
          "United Arab Emirates",
          "Uruguay",
          "Vanuatu",
          "Venezuela (Bolivarian Republic of)",
          "Yemen"
         ],
         "locations": [
          "AFG",
          "ALB",
          "DZA",
          "ATG",
          "ARM",
          "AZE",
          "BHR",
          "BEN",
          "BRA",
          "CIV",
          "CPV",
          "TCD",
          "COL",
          "COG",
          "COD",
          "DJI",
          "ERI",
          "ETH",
          "FIN",
          "GMB",
          "GHA",
          "GIN",
          "GUY",
          "ISL",
          "IRN",
          "IRQ",
          "JOR",
          "KEN",
          "KIR",
          "KWT",
          "KGZ",
          "LAO",
          "LBY",
          "MDG",
          "MDV",
          "MRT",
          "MUS",
          "MEX",
          "MNG",
          "NPL",
          "NLD",
          "NER",
          "NGA",
          "NIU",
          "PSE",
          "PAN",
          "QAT",
          "MDA",
          "RUS",
          "SAU",
          "SEN",
          "SYC",
          "SVN",
          "ESP",
          "SDN",
          "SUR",
          "TUR",
          "TGO",
          "TUV",
          "UGA",
          "UKR",
          "ARE",
          "URY",
          "VUT",
          "VEN",
          "YEM"
         ],
         "name": "Level 5 — complete TAPS ban (all forms)",
         "showlegend": true,
         "showscale": false,
         "z": [
          1,
          1,
          1,
          1,
          1,
          1,
          1,
          1,
          1,
          1,
          1,
          1,
          1,
          1,
          1,
          1,
          1,
          1,
          1,
          1,
          1,
          1,
          1,
          1,
          1,
          1,
          1,
          1,
          1,
          1,
          1,
          1,
          1,
          1,
          1,
          1,
          1,
          1,
          1,
          1,
          1,
          1,
          1,
          1,
          1,
          1,
          1,
          1,
          1,
          1,
          1,
          1,
          1,
          1,
          1,
          1,
          1,
          1,
          1,
          1,
          1,
          1,
          1,
          1,
          1,
          1
         ],
         "type": "choropleth"
        }
       ],
       "layout": {
        "template": {
         "data": {
          "histogram2dcontour": [
           {
            "type": "histogram2dcontour",
            "colorbar": {
             "outlinewidth": 0,
             "ticks": ""
            },
            "colorscale": [
             [
              0.0,
              "#0d0887"
             ],
             [
              0.1111111111111111,
              "#46039f"
             ],
             [
              0.2222222222222222,
              "#7201a8"
             ],
             [
              0.3333333333333333,
              "#9c179e"
             ],
             [
              0.4444444444444444,
              "#bd3786"
             ],
             [
              0.5555555555555556,
              "#d8576b"
             ],
             [
              0.6666666666666666,
              "#ed7953"
             ],
             [
              0.7777777777777778,
              "#fb9f3a"
             ],
             [
              0.8888888888888888,
              "#fdca26"
             ],
             [
              1.0,
              "#f0f921"
             ]
            ]
           }
          ],
          "choropleth": [
           {
            "type": "choropleth",
            "colorbar": {
             "outlinewidth": 0,
             "ticks": ""
            }
           }
          ],
          "histogram2d": [
           {
            "type": "histogram2d",
            "colorbar": {
             "outlinewidth": 0,
             "ticks": ""
            },
            "colorscale": [
             [
              0.0,
              "#0d0887"
             ],
             [
              0.1111111111111111,
              "#46039f"
             ],
             [
              0.2222222222222222,
              "#7201a8"
             ],
             [
              0.3333333333333333,
              "#9c179e"
             ],
             [
              0.4444444444444444,
              "#bd3786"
             ],
             [
              0.5555555555555556,
              "#d8576b"
             ],
             [
              0.6666666666666666,
              "#ed7953"
             ],
             [
              0.7777777777777778,
              "#fb9f3a"
             ],
             [
              0.8888888888888888,
              "#fdca26"
             ],
             [
              1.0,
              "#f0f921"
             ]
            ]
           }
          ],
          "heatmap": [
           {
            "type": "heatmap",
            "colorbar": {
             "outlinewidth": 0,
             "ticks": ""
            },
            "colorscale": [
             [
              0.0,
              "#0d0887"
             ],
             [
              0.1111111111111111,
              "#46039f"
             ],
             [
              0.2222222222222222,
              "#7201a8"
             ],
             [
              0.3333333333333333,
              "#9c179e"
             ],
             [
              0.4444444444444444,
              "#bd3786"
             ],
             [
              0.5555555555555556,
              "#d8576b"
             ],
             [
              0.6666666666666666,
              "#ed7953"
             ],
             [
              0.7777777777777778,
              "#fb9f3a"
             ],
             [
              0.8888888888888888,
              "#fdca26"
             ],
             [
              1.0,
              "#f0f921"
             ]
            ]
           }
          ],
          "contourcarpet": [
           {
            "type": "contourcarpet",
            "colorbar": {
             "outlinewidth": 0,
             "ticks": ""
            }
           }
          ],
          "contour": [
           {
            "type": "contour",
            "colorbar": {
             "outlinewidth": 0,
             "ticks": ""
            },
            "colorscale": [
             [
              0.0,
              "#0d0887"
             ],
             [
              0.1111111111111111,
              "#46039f"
             ],
             [
              0.2222222222222222,
              "#7201a8"
             ],
             [
              0.3333333333333333,
              "#9c179e"
             ],
             [
              0.4444444444444444,
              "#bd3786"
             ],
             [
              0.5555555555555556,
              "#d8576b"
             ],
             [
              0.6666666666666666,
              "#ed7953"
             ],
             [
              0.7777777777777778,
              "#fb9f3a"
             ],
             [
              0.8888888888888888,
              "#fdca26"
             ],
             [
              1.0,
              "#f0f921"
             ]
            ]
           }
          ],
          "surface": [
           {
            "type": "surface",
            "colorbar": {
             "outlinewidth": 0,
             "ticks": ""
            },
            "colorscale": [
             [
              0.0,
              "#0d0887"
             ],
             [
              0.1111111111111111,
              "#46039f"
             ],
             [
              0.2222222222222222,
              "#7201a8"
             ],
             [
              0.3333333333333333,
              "#9c179e"
             ],
             [
              0.4444444444444444,
              "#bd3786"
             ],
             [
              0.5555555555555556,
              "#d8576b"
             ],
             [
              0.6666666666666666,
              "#ed7953"
             ],
             [
              0.7777777777777778,
              "#fb9f3a"
             ],
             [
              0.8888888888888888,
              "#fdca26"
             ],
             [
              1.0,
              "#f0f921"
             ]
            ]
           }
          ],
          "mesh3d": [
           {
            "type": "mesh3d",
            "colorbar": {
             "outlinewidth": 0,
             "ticks": ""
            }
           }
          ],
          "scatter": [
           {
            "fillpattern": {
             "fillmode": "overlay",
             "size": 10,
             "solidity": 0.2
            },
            "type": "scatter"
           }
          ],
          "parcoords": [
           {
            "type": "parcoords",
            "line": {
             "colorbar": {
              "outlinewidth": 0,
              "ticks": ""
             }
            }
           }
          ],
          "scatterpolargl": [
           {
            "type": "scatterpolargl",
            "marker": {
             "colorbar": {
              "outlinewidth": 0,
              "ticks": ""
             }
            }
           }
          ],
          "bar": [
           {
            "error_x": {
             "color": "#2a3f5f"
            },
            "error_y": {
             "color": "#2a3f5f"
            },
            "marker": {
             "line": {
              "color": "#E5ECF6",
              "width": 0.5
             },
             "pattern": {
              "fillmode": "overlay",
              "size": 10,
              "solidity": 0.2
             }
            },
            "type": "bar"
           }
          ],
          "scattergeo": [
           {
            "type": "scattergeo",
            "marker": {
             "colorbar": {
              "outlinewidth": 0,
              "ticks": ""
             }
            }
           }
          ],
          "scatterpolar": [
           {
            "type": "scatterpolar",
            "marker": {
             "colorbar": {
              "outlinewidth": 0,
              "ticks": ""
             }
            }
           }
          ],
          "histogram": [
           {
            "marker": {
             "pattern": {
              "fillmode": "overlay",
              "size": 10,
              "solidity": 0.2
             }
            },
            "type": "histogram"
           }
          ],
          "scattergl": [
           {
            "type": "scattergl",
            "marker": {
             "colorbar": {
              "outlinewidth": 0,
              "ticks": ""
             }
            }
           }
          ],
          "scatter3d": [
           {
            "type": "scatter3d",
            "line": {
             "colorbar": {
              "outlinewidth": 0,
              "ticks": ""
             }
            },
            "marker": {
             "colorbar": {
              "outlinewidth": 0,
              "ticks": ""
             }
            }
           }
          ],
          "scattermap": [
           {
            "type": "scattermap",
            "marker": {
             "colorbar": {
              "outlinewidth": 0,
              "ticks": ""
             }
            }
           }
          ],
          "scattermapbox": [
           {
            "type": "scattermapbox",
            "marker": {
             "colorbar": {
              "outlinewidth": 0,
              "ticks": ""
             }
            }
           }
          ],
          "scatterternary": [
           {
            "type": "scatterternary",
            "marker": {
             "colorbar": {
              "outlinewidth": 0,
              "ticks": ""
             }
            }
           }
          ],
          "scattercarpet": [
           {
            "type": "scattercarpet",
            "marker": {
             "colorbar": {
              "outlinewidth": 0,
              "ticks": ""
             }
            }
           }
          ],
          "carpet": [
           {
            "aaxis": {
             "endlinecolor": "#2a3f5f",
             "gridcolor": "white",
             "linecolor": "white",
             "minorgridcolor": "white",
             "startlinecolor": "#2a3f5f"
            },
            "baxis": {
             "endlinecolor": "#2a3f5f",
             "gridcolor": "white",
             "linecolor": "white",
             "minorgridcolor": "white",
             "startlinecolor": "#2a3f5f"
            },
            "type": "carpet"
           }
          ],
          "table": [
           {
            "cells": {
             "fill": {
              "color": "#EBF0F8"
             },
             "line": {
              "color": "white"
             }
            },
            "header": {
             "fill": {
              "color": "#C8D4E3"
             },
             "line": {
              "color": "white"
             }
            },
            "type": "table"
           }
          ],
          "barpolar": [
           {
            "marker": {
             "line": {
              "color": "#E5ECF6",
              "width": 0.5
             },
             "pattern": {
              "fillmode": "overlay",
              "size": 10,
              "solidity": 0.2
             }
            },
            "type": "barpolar"
           }
          ],
          "pie": [
           {
            "automargin": true,
            "type": "pie"
           }
          ]
         },
         "layout": {
          "autotypenumbers": "strict",
          "colorway": [
           "#636efa",
           "#EF553B",
           "#00cc96",
           "#ab63fa",
           "#FFA15A",
           "#19d3f3",
           "#FF6692",
           "#B6E880",
           "#FF97FF",
           "#FECB52"
          ],
          "font": {
           "color": "#2a3f5f"
          },
          "hovermode": "closest",
          "hoverlabel": {
           "align": "left"
          },
          "paper_bgcolor": "white",
          "plot_bgcolor": "#E5ECF6",
          "polar": {
           "bgcolor": "#E5ECF6",
           "angularaxis": {
            "gridcolor": "white",
            "linecolor": "white",
            "ticks": ""
           },
           "radialaxis": {
            "gridcolor": "white",
            "linecolor": "white",
            "ticks": ""
           }
          },
          "ternary": {
           "bgcolor": "#E5ECF6",
           "aaxis": {
            "gridcolor": "white",
            "linecolor": "white",
            "ticks": ""
           },
           "baxis": {
            "gridcolor": "white",
            "linecolor": "white",
            "ticks": ""
           },
           "caxis": {
            "gridcolor": "white",
            "linecolor": "white",
            "ticks": ""
           }
          },
          "coloraxis": {
           "colorbar": {
            "outlinewidth": 0,
            "ticks": ""
           }
          },
          "colorscale": {
           "sequential": [
            [
             0.0,
             "#0d0887"
            ],
            [
             0.1111111111111111,
             "#46039f"
            ],
            [
             0.2222222222222222,
             "#7201a8"
            ],
            [
             0.3333333333333333,
             "#9c179e"
            ],
            [
             0.4444444444444444,
             "#bd3786"
            ],
            [
             0.5555555555555556,
             "#d8576b"
            ],
            [
             0.6666666666666666,
             "#ed7953"
            ],
            [
             0.7777777777777778,
             "#fb9f3a"
            ],
            [
             0.8888888888888888,
             "#fdca26"
            ],
            [
             1.0,
             "#f0f921"
            ]
           ],
           "sequentialminus": [
            [
             0.0,
             "#0d0887"
            ],
            [
             0.1111111111111111,
             "#46039f"
            ],
            [
             0.2222222222222222,
             "#7201a8"
            ],
            [
             0.3333333333333333,
             "#9c179e"
            ],
            [
             0.4444444444444444,
             "#bd3786"
            ],
            [
             0.5555555555555556,
             "#d8576b"
            ],
            [
             0.6666666666666666,
             "#ed7953"
            ],
            [
             0.7777777777777778,
             "#fb9f3a"
            ],
            [
             0.8888888888888888,
             "#fdca26"
            ],
            [
             1.0,
             "#f0f921"
            ]
           ],
           "diverging": [
            [
             0,
             "#8e0152"
            ],
            [
             0.1,
             "#c51b7d"
            ],
            [
             0.2,
             "#de77ae"
            ],
            [
             0.3,
             "#f1b6da"
            ],
            [
             0.4,
             "#fde0ef"
            ],
            [
             0.5,
             "#f7f7f7"
            ],
            [
             0.6,
             "#e6f5d0"
            ],
            [
             0.7,
             "#b8e186"
            ],
            [
             0.8,
             "#7fbc41"
            ],
            [
             0.9,
             "#4d9221"
            ],
            [
             1,
             "#276419"
            ]
           ]
          },
          "xaxis": {
           "gridcolor": "white",
           "linecolor": "white",
           "ticks": "",
           "title": {
            "standoff": 15
           },
           "zerolinecolor": "white",
           "automargin": true,
           "zerolinewidth": 2
          },
          "yaxis": {
           "gridcolor": "white",
           "linecolor": "white",
           "ticks": "",
           "title": {
            "standoff": 15
           },
           "zerolinecolor": "white",
           "automargin": true,
           "zerolinewidth": 2
          },
          "scene": {
           "xaxis": {
            "backgroundcolor": "#E5ECF6",
            "gridcolor": "white",
            "linecolor": "white",
            "showbackground": true,
            "ticks": "",
            "zerolinecolor": "white",
            "gridwidth": 2
           },
           "yaxis": {
            "backgroundcolor": "#E5ECF6",
            "gridcolor": "white",
            "linecolor": "white",
            "showbackground": true,
            "ticks": "",
            "zerolinecolor": "white",
            "gridwidth": 2
           },
           "zaxis": {
            "backgroundcolor": "#E5ECF6",
            "gridcolor": "white",
            "linecolor": "white",
            "showbackground": true,
            "ticks": "",
            "zerolinecolor": "white",
            "gridwidth": 2
           }
          },
          "shapedefaults": {
           "line": {
            "color": "#2a3f5f"
           }
          },
          "annotationdefaults": {
           "arrowcolor": "#2a3f5f",
           "arrowhead": 0,
           "arrowwidth": 1
          },
          "geo": {
           "bgcolor": "white",
           "landcolor": "#E5ECF6",
           "subunitcolor": "white",
           "showland": true,
           "showlakes": true,
           "lakecolor": "white"
          },
          "title": {
           "x": 0.05
          },
          "mapbox": {
           "style": "light"
          }
         }
        },
        "geo": {
         "domain": {
          "x": [
           0.0,
           1.0
          ],
          "y": [
           0.0,
           1.0
          ]
         },
         "center": {}
        },
        "legend": {
         "title": {
          "text": "TAPS policy level"
         },
         "tracegroupgap": 0
        },
        "title": {
         "text": "TAPS coverage index — latest available year (2022)"
        }
       },
       "config": {
        "plotlyServerURL": "https://plot.ly"
       }
      }
     },
     "metadata": {},
     "output_type": "display_data"
    }
   ],
   "execution_count": 1
  },
  {
   "metadata": {},
   "cell_type": "markdown",
   "source": [
    "> - **Title**: World map by policy level (WHO scale 2–5) for **T**obacco **A**dvertising, **P**romotion and **S**ponsorship.\n",
    "> - Key messages:\n",
    ">    - Just under a third of countries have achieved a complete ban on all forms of TAPS (level 5).\n",
    ">    - The majority are at level 4 (complete bans on TV/radio/press + other channels, but not all), indicating that “grey areas” remain on some channels (e.g., digital, sponsorships, or POS).\n",
    ">    - The map shows strong regional heterogeneity, with high-level clusters alongside mid/low-level areas."
   ],
   "id": "38d324ecdd9135a"
  },
  {
   "metadata": {
    "ExecuteTime": {
     "end_time": "2025-09-23T10:27:12.907661Z",
     "start_time": "2025-09-23T10:27:12.622762Z"
    }
   },
   "cell_type": "code",
   "source": [
    "import pandas as pd\n",
    "import numpy as np\n",
    "import matplotlib.pyplot as plt\n",
    "import matplotlib.patheffects as pe\n",
    "\n",
    "# === Percorsi ai file (modifica se servono) ===\n",
    "paths = {\n",
    "    \"Free distribution (e9)\": \"data/E/gho-tobacco-control-enforce-bans-e9-free-distrib.csv\",\n",
    "    \"Promotional discounts (e10)\": \"data/E/gho-tobacco-control-enforce-bans-e10-promo-discounts.csv\",\n",
    "    \"Brand stretching (e11)\": \"data/E/gho-tobacco-control-enforce-bans-e11-brand-stretching.csv\",\n",
    "    \"Brand sharing (e12)\": \"data/E/gho-tobacco-control-enforce-bans-e12-brand-sharing.csv\",\n",
    "    \"Brand placement (e13)\": \"data/E/gho-tobacco-control-enforce-bans-e13-brand-placement-.csv\",\n",
    "    \"Appearance in films/TV (e14a)\": \"data/E/gho-tobacco-control-enforce-bans-e14a-prod-tv-films.csv\",\n",
    "    \"Sponsorship (ban) (e15a)\": \"data/E/gho-tobacco-control-enforce-bans-e15a-sponsorship.csv\",\n",
    "    \"Sponsor publicity ban (e15c)\": \"data/E/gho-tobacco-control-enforce-bans-e15c-sponsor-publicity.csv\",\n",
    "}\n",
    "\n",
    "# Se True, ordina le colonne della heatmap per quota globale decrescente\n",
    "ORDER_COLUMNS_BY_GLOBAL = True\n",
    "\n",
    "\n",
    "# ---------- Helpers ----------\n",
    "def load_std(path: str):\n",
    "    \"\"\"Legge CSV WHO e restituisce df + nomi colonne chiave (location/region/year/value).\"\"\"\n",
    "    df = pd.read_csv(path)\n",
    "    df.columns = [c.strip().lower().replace(\" \", \"_\").replace(\"-\", \"_\") for c in df.columns]\n",
    "    loc = next(c for c in df.columns if c in [\"location\", \"country\", \"spatialdim\"])\n",
    "    reg = next(c for c in df.columns if c in [\"parentlocation\", \"region\"])\n",
    "    yr = next(c for c in df.columns if c in [\"period\", \"year\", \"time_period\"])\n",
    "    val = \"value\" if \"value\" in df.columns else \"factvaluenumeric\"\n",
    "    return df, loc, reg, yr, val\n",
    "\n",
    "\n",
    "def clean_indicator(df, loc, reg, yr, val, pretty_name):\n",
    "    \"\"\"\n",
    "    Mantiene solo Yes/No (esclude Not applicable), binarizza (Yes=1 No=0),\n",
    "    seleziona l'ULTIMO anno disponibile per ciascun Paese,\n",
    "    e restituisce location, region, year, indicator, bin.\n",
    "    \"\"\"\n",
    "    use = df[[loc, reg, yr, val]].copy()\n",
    "    use[yr] = pd.to_numeric(use[yr], errors=\"coerce\")\n",
    "    use = use.dropna(subset=[yr])\n",
    "\n",
    "    # Normalizza a binario\n",
    "    if use[val].dtype == object:\n",
    "        use = use[use[val].isin([\"Yes\", \"No\"])].copy()\n",
    "        use[\"bin\"] = use[val].map({\"Yes\": 1, \"No\": 0})\n",
    "    else:\n",
    "        use[\"bin\"] = (use[val].astype(float) >= 1).astype(int)\n",
    "\n",
    "    # Un record per country-year (tieni l'ultimo), poi ultimo anno per Paese\n",
    "    use = use.sort_values([loc, yr]).drop_duplicates(subset=[loc, yr], keep=\"last\")\n",
    "    use = use.sort_values([loc, yr]).drop_duplicates(subset=[loc], keep=\"last\")\n",
    "\n",
    "    use = use.rename(columns={loc: \"location\", reg: \"region\", yr: \"year\"})\n",
    "    use[\"indicator\"] = pretty_name\n",
    "    return use[[\"location\", \"region\", \"year\", \"indicator\", \"bin\"]]\n",
    "\n",
    "\n",
    "# ---------- Caricamento & pulizia ----------\n",
    "cleaned = []\n",
    "for name, p in paths.items():\n",
    "    df, loc, reg, yr, val = load_std(p)\n",
    "    cleaned.append(clean_indicator(df, loc, reg, yr, val, name))\n",
    "\n",
    "all_ind = pd.concat(cleaned, ignore_index=True)\n",
    "\n",
    "# Ultimo anno per ciascun indicatore (lavoriamo \"per colonna\" all’ultimo anno disponibile)\n",
    "latest_year = all_ind.groupby(\"indicator\")[\"year\"].max().rename(\"latest_year\")\n",
    "all_latest = all_ind.merge(latest_year, on=\"indicator\")\n",
    "all_latest = all_latest[all_latest[\"year\"] == all_latest[\"latest_year\"]].copy()\n",
    "\n",
    "# --------- Quote per regione (Yes %) e denominatori ----------\n",
    "shares = (all_latest.groupby([\"region\", \"indicator\"])[\"bin\"]\n",
    "          .agg(share_yes_pct=lambda s: round(100 * s.mean(), 1), denom=\"count\")\n",
    "          .reset_index())\n",
    "\n",
    "heat = shares.pivot(index=\"region\", columns=\"indicator\", values=\"share_yes_pct\").sort_index()\n",
    "denoms = shares.pivot(index=\"region\", columns=\"indicator\", values=\"denom\").sort_index()\n",
    "\n",
    "# Quota globale per ordinare eventuale colonna\n",
    "global_shares = (all_latest.groupby(\"indicator\")[\"bin\"].mean() * 100).round(1).sort_values(ascending=False)\n",
    "\n",
    "if ORDER_COLUMNS_BY_GLOBAL:\n",
    "    heat = heat[global_shares.index]  # riordina colonne\n",
    "    denoms = denoms[global_shares.index]\n",
    "\n",
    "# ---------- Plot: Heatmap con annotazioni ad alto contrasto ----------\n",
    "Z = heat.values.astype(float)\n",
    "\n",
    "fig, ax = plt.subplots(figsize=(12, 6), dpi=150)\n",
    "# Colormap di default; scala fissa 0–100 per coerenza visiva\n",
    "im = ax.imshow(Z, aspect=\"auto\", vmin=0, vmax=100)\n",
    "\n",
    "ax.set_xticks(np.arange(heat.shape[1]))\n",
    "ax.set_xticklabels(heat.columns, rotation=35, ha=\"right\")\n",
    "ax.set_yticks(np.arange(heat.shape[0]))\n",
    "ax.set_yticklabels(heat.index)\n",
    "ax.set_title(\"Indirect bans — % of countries with ban by WHO region (latest year per indicator)\")\n",
    "\n",
    "# Griglia leggera tra le celle\n",
    "ax.set_xticks(np.arange(-.5, Z.shape[1], 1), minor=True)\n",
    "ax.set_yticks(np.arange(-.5, Z.shape[0], 1), minor=True)\n",
    "ax.grid(which=\"minor\", linestyle=\"-\", linewidth=0.6, alpha=0.4)\n",
    "ax.tick_params(which=\"minor\", bottom=False, left=False)\n",
    "\n",
    "# Annotazioni con contrasto automatico + contorno\n",
    "thr = np.nanmedian(Z)  # soglia dinamica per scegliere colore testo\n",
    "for i in range(Z.shape[0]):\n",
    "    for j in range(Z.shape[1]):\n",
    "        val = Z[i, j]\n",
    "        if np.isnan(val):\n",
    "            continue\n",
    "        txt_color = \"white\" if val >= thr else \"black\"\n",
    "        outline = \"black\" if txt_color == \"white\" else \"white\"\n",
    "        ax.text(j, i, f\"{val:.1f}%\", ha=\"center\", va=\"center\", fontsize=10,\n",
    "                color=txt_color, path_effects=[pe.withStroke(linewidth=2, foreground=outline)])\n",
    "\n",
    "cbar = fig.colorbar(im, ax=ax, fraction=0.046, pad=0.04, label=\"% with ban (Yes)\")\n",
    "plt.tight_layout()\n",
    "plt.show()\n",
    "\n",
    "## ---------- Output tabellare (utile per la slide/note) ----------\n",
    "#print(\"\\nUltimo anno usato per ciascun indicatore:\")\n",
    "#print(latest_year.sort_index())\n",
    "#\n",
    "#print(\"\\nDenominatori (Paesi con Yes/No, ultimo anno per indicatore):\")\n",
    "#print(denoms)\n",
    "#\n",
    "#print(\"\\nQuote regionali (%):\")\n",
    "#print(heat)\n",
    "#\n",
    "#print(\"\\nQuote globali (% con divieto) per indicatore (ordinamento decrescente):\")\n",
    "#print(global_shares)"
   ],
   "id": "9a04ee53c2af797f",
   "outputs": [
    {
     "data": {
      "text/plain": [
       "<Figure size 1800x900 with 2 Axes>"
      ],
      "image/png": "[encoded data removed]"
     },
     "metadata": {},
     "output_type": "display_data"
    }
   ],
   "execution_count": 2
  },
  {
   "metadata": {},
   "cell_type": "markdown",
   "source": [
    "> - **Title**: Indirect bans by type. Indicators e9–e15: free distribution, promotional discounts, brand placement/stretching/sharing, sponsorship/publicity, appearance in films/TV.\n",
    "> - Key messages:\n",
    ">     - Strong variation across items: bans on retail promotions are generally more widespread; brand sharing/extension and films/TV appearances tend to be weaker and uneven.\n",
    ">     - Regional patterns: some regions show consistent coverage across multiple items, others remain fragmented, especially on media/entertainment and sponsorship.\n",
    ">     - Displacement risk: weak items become landing zones for marketing activity (e.g., partnerships, placements, audiovisual content).\n",
    ">     - Policy priorities: broaden definitions (cover digital, influencers, co-branding), add explicit bans on brand sharing/placement, ensure deterrent fines and enforcement tracking."
   ],
   "id": "609b17b9c631d098"
  },
  {
   "metadata": {
    "ExecuteTime": {
     "end_time": "2025-09-23T10:27:13.111055Z",
     "start_time": "2025-09-23T10:27:13.003237Z"
    }
   },
   "cell_type": "code",
   "source": [
    "import pandas as pd\n",
    "import numpy as np\n",
    "import matplotlib.pyplot as plt\n",
    "\n",
    "# Load files\n",
    "df_direct = pd.read_csv('data/E/gho-tobacco-control-enforce-bans-e21a-direct-ad-fines.csv')\n",
    "df_indirect = pd.read_csv('data/E/gho-tobacco-control-enforce-bans-e21b-indirect-ad-fines.csv')\n",
    "\n",
    "# Standardize column names\n",
    "df_direct.columns = df_indirect.columns = [\n",
    "    c.strip().lower().replace(\" \", \"_\").replace(\"-\", \"_\") for c in df_direct.columns\n",
    "]\n",
    "\n",
    "col_location = \"location\"\n",
    "col_parent = \"parentlocation\"\n",
    "col_period = \"period\"\n",
    "col_value = \"value\"  # expects Yes/No/Not applicable\n",
    "\n",
    "\n",
    "# Clean function: Yes → 1, all else (No, Not applicable, missing) → 0, keep latest year per country\n",
    "def clean_yes_no_all(df):\n",
    "    df = df[[col_location, col_parent, col_period, col_value]].copy()\n",
    "    df[\"value_bin\"] = (df[col_value] == \"Yes\").astype(int)\n",
    "    df[col_period] = pd.to_numeric(df[col_period], errors=\"coerce\")\n",
    "    df = df.dropna(subset=[col_period])\n",
    "    df = df.sort_values([col_location, col_period])\n",
    "    idx = df.groupby(col_location)[col_period].idxmax()\n",
    "    return df.loc[idx].copy()\n",
    "\n",
    "\n",
    "df_direct_latest = clean_yes_no_all(df_direct)\n",
    "df_indirect_latest = clean_yes_no_all(df_indirect)\n",
    "\n",
    "df_direct_latest[\"type\"] = \"Direct advertising\"\n",
    "df_indirect_latest[\"type\"] = \"Promotion & Sponsorship\"\n",
    "\n",
    "df_combined = pd.concat([df_direct_latest, df_indirect_latest])\n",
    "\n",
    "df_grouped = (\n",
    "    df_combined.groupby([col_parent, \"type\"])\n",
    "    .agg(\n",
    "        countries=(col_location, \"nunique\"),\n",
    "        with_fines=(\"value_bin\", \"sum\"),\n",
    "        share_fines_pct=(\"value_bin\", lambda x: round(x.mean() * 100.0, 1))\n",
    "    )\n",
    "    .reset_index()\n",
    ")\n",
    "\n",
    "df_plot = df_grouped.pivot(index=col_parent, columns=\"type\", values=\"share_fines_pct\").fillna(0).sort_index()\n",
    "\n",
    "fig, ax = plt.subplots(figsize=(10, 6), facecolor=\"#fafafa\")\n",
    "x = np.arange(len(df_plot.index))\n",
    "width = 0.35\n",
    "colors = [\"#1f77b4\", \"#ff7f0e\"]\n",
    "\n",
    "bars1 = ax.bar(x - width / 2, df_plot[\"Direct advertising\"], width, label='Direct advertising', color=colors[0])\n",
    "bars2 = ax.bar(x + width / 2, df_plot[\"Promotion & Sponsorship\"], width, label='Promotion & Sponsorship',\n",
    "               color=colors[1])\n",
    "\n",
    "ax.set_ylabel(\"Countries with fines required by law (%)\")\n",
    "ax.set_title(\"Enforcement: Legal requirement of fines for advertising bans (latest year)\")\n",
    "ax.set_xticks(x)\n",
    "ax.set_xticklabels(df_plot.index, rotation=45, ha=\"right\")\n",
    "ax.legend(title=\"Type\")\n",
    "ax.grid(axis='y', linestyle='--', alpha=0.5)\n",
    "\n",
    "for bars in [bars1, bars2]:\n",
    "    for bar in bars:\n",
    "        height = bar.get_height()\n",
    "        ax.annotate(f'{height:.1f}%',\n",
    "                    xy=(bar.get_x() + bar.get_width() / 2, height),\n",
    "                    xytext=(0, 3),\n",
    "                    textcoords=\"offset points\",\n",
    "                    ha='center', va='bottom')\n",
    "plt.tight_layout()\n",
    "plt.show()"
   ],
   "id": "a96cf7d0cef7a3b6",
   "outputs": [
    {
     "data": {
      "text/plain": [
       "<Figure size 1000x600 with 1 Axes>"
      ],
      "image/png": "[encoded data removed]"
     },
     "metadata": {},
     "output_type": "display_data"
    }
   ],
   "execution_count": 3
  },
  {
   "metadata": {},
   "cell_type": "markdown",
   "source": [
    "> - **Title**: Legal requirement of fines for violations (latest year)\n",
    "> - Key messages:\n",
    ">    - The legal requirement of fines is widespread but uneven across regions.\n",
    ">    - Direct advertising is often better covered than P&S, signalling a weak point in TAPS enforcement.\n",
    ">    - Policy takeaway: align fine requirements across direct and P&S to prevent marketing displacement and ensure consistent bans."
   ],
   "id": "1dd2f1abb4d796ea"
  },
  {
   "metadata": {
    "ExecuteTime": {
     "end_time": "2025-09-23T10:27:13.268800Z",
     "start_time": "2025-09-23T10:27:13.114343Z"
    }
   },
   "cell_type": "code",
   "source": [
    "import pandas as pd\n",
    "import numpy as np\n",
    "import matplotlib.pyplot as plt\n",
    "\n",
    "# === File paths ===\n",
    "p_internet_ad = 'data/E/gho-tobacco-control-enforce-bans-e7-internet.csv'\n",
    "p_pos_display = 'data/E/ban-on-display-of-tobacco-products-at-points-of-sale.csv'\n",
    "\n",
    "\n",
    "# --- Utility functions ---\n",
    "\n",
    "def load_std(path):\n",
    "    \"\"\"Load CSV and standardize column names.\"\"\"\n",
    "    df = pd.read_csv(path)\n",
    "    df.columns = [c.strip().lower().replace(\" \", \"_\").replace(\"-\", \"_\") for c in df.columns]\n",
    "    return df\n",
    "\n",
    "\n",
    "def find_cols(df):\n",
    "    \"\"\"Detect key columns for location, region, year, and value.\"\"\"\n",
    "    loc = next(c for c in df.columns if c in [\"location\", \"country\", \"spatialdim\"])\n",
    "    reg = next(c for c in df.columns if c in [\"parentlocation\", \"region\"])\n",
    "    yr = next(c for c in df.columns if c in [\"period\", \"year\", \"time_period\"])\n",
    "    val = \"value\" if \"value\" in df.columns else \"factvaluenumeric\"\n",
    "    return loc, reg, yr, val\n",
    "\n",
    "\n",
    "def prep_indicator(df, loc_col, reg_col, yr_col, val_col, name):\n",
    "    \"\"\"Prepare indicator: Yes→1, all else→0, keep latest year per country.\"\"\"\n",
    "    out = df[[loc_col, reg_col, yr_col, val_col]].copy()\n",
    "    out[yr_col] = pd.to_numeric(out[yr_col], errors=\"coerce\")\n",
    "    out = out.dropna(subset=[yr_col])\n",
    "    # Map Yes→1, all else (No, Not applicable, missing)→0\n",
    "    out[\"bin\"] = (out[val_col] == \"Yes\").astype(int)\n",
    "    # Keep only the latest year per country\n",
    "    out = out.sort_values([loc_col, yr_col]).drop_duplicates(subset=[loc_col], keep=\"last\")\n",
    "    out = out.rename(columns={loc_col: \"location\", reg_col: \"region\", yr_col: \"year\"})\n",
    "    out[name] = out[\"bin\"].astype(int)\n",
    "    return out[[\"location\", \"region\", \"year\", name]]\n",
    "\n",
    "\n",
    "# --- Load and process data ---\n",
    "\n",
    "df_e7 = load_std(p_internet_ad)\n",
    "df_pos = load_std(p_pos_display)\n",
    "\n",
    "loc_e7, reg_e7, yr_e7, val_e7 = find_cols(df_e7)\n",
    "loc_pos, reg_pos, yr_pos, val_pos = find_cols(df_pos)\n",
    "\n",
    "e7 = prep_indicator(df_e7, loc_e7, reg_e7, yr_e7, val_e7, \"internet_ad_ban\")\n",
    "pos = prep_indicator(df_pos, loc_pos, reg_pos, yr_pos, val_pos, \"pos_display_ban\")\n",
    "\n",
    "# --- Find latest common year ---\n",
    "latest_common_year = int(min(e7[\"year\"].max(), pos[\"year\"].max()))\n",
    "e7_y = e7[e7[\"year\"] == latest_common_year]\n",
    "pos_y = pos[pos[\"year\"] == latest_common_year]\n",
    "\n",
    "# --- Merge: only countries with both values ---\n",
    "merged = pd.merge(e7_y, pos_y, on=[\"location\", \"region\", \"year\"], how=\"inner\")\n",
    "\n",
    "\n",
    "# --- Combination label ---\n",
    "def combo_label(row):\n",
    "    return (\"Internet\" if row[\"internet_ad_ban\"] == 1 else \"no-Internet\") + \" | \" + \\\n",
    "        (\"POS display\" if row[\"pos_display_ban\"] == 1 else \"no-POS display\")\n",
    "\n",
    "\n",
    "merged[\"combo\"] = merged.apply(combo_label, axis=1)\n",
    "\n",
    "# --- Overall counts ---\n",
    "counts_overall = (merged.groupby(\"combo\")[\"location\"]\n",
    "                  .nunique()\n",
    "                  .sort_values(ascending=False)\n",
    "                  .rename(\"countries\")\n",
    "                  .reset_index())\n",
    "\n",
    "# --- Shares by region ---\n",
    "counts_by_region = (merged.groupby([\"region\", \"combo\"])[\"location\"].nunique()\n",
    "                    .rename(\"countries\").reset_index())\n",
    "region_tot = merged.groupby(\"region\")[\"location\"].nunique().rename(\"total\").reset_index()\n",
    "shares_by_region = counts_by_region.merge(region_tot, on=\"region\")\n",
    "shares_by_region[\"share_pct\"] = (100 * shares_by_region[\"countries\"] / shares_by_region[\"total\"]).round(1)\n",
    "\n",
    "# --- Color palette for combinations ---\n",
    "combo_colors = {\n",
    "    \"Internet | POS display\": \"#229954\",  # green\n",
    "    \"Internet | no-POS display\": \"#f7b731\",  # orange\n",
    "    \"no-Internet | POS display\": \"#1f77b4\",  # blue\n",
    "    \"no-Internet | no-POS display\": \"#b2babb\"  # grey\n",
    "}\n",
    "# Ensure all combos are present\n",
    "for combo in merged[\"combo\"].unique():\n",
    "    if combo not in combo_colors:\n",
    "        combo_colors[combo] = \"#b2babb\"\n",
    "\n",
    "# === Plot 1: UpSet-like bar (overall) ===\n",
    "fig, ax = plt.subplots(figsize=(9, 6))\n",
    "bars = ax.bar(counts_overall[\"combo\"], counts_overall[\"countries\"],\n",
    "              color=[combo_colors[c] for c in counts_overall[\"combo\"]])\n",
    "ax.set_title(\"Retail/Digital policy bundle — combinations (latest common year)\")\n",
    "ax.set_ylabel(\"Number of countries\")\n",
    "ax.grid(axis=\"y\", linestyle=\"--\", alpha=0.5)\n",
    "ax.set_xticks(np.arange(len(counts_overall[\"combo\"])))\n",
    "ax.set_xticklabels(counts_overall[\"combo\"], rotation=30, ha=\"right\")\n",
    "for i, y in enumerate(counts_overall[\"countries\"]):\n",
    "    ax.annotate(str(int(y)), (i, y), xytext=(0, 3), textcoords=\"offset points\", ha=\"center\", va=\"bottom\")\n",
    "plt.tight_layout()\n",
    "plt.show()\n",
    "\n",
    "# === Plot 2: Stacked by region (share %) ===\n",
    "pivot_shares = shares_by_region.pivot(index=\"region\", columns=\"combo\", values=\"share_pct\").fillna(0).sort_index()\n",
    "fig2, ax2 = plt.subplots(figsize=(10, 6))\n",
    "bottom = np.zeros(len(pivot_shares))\n",
    "x = np.arange(len(pivot_shares.index))\n",
    "for combo in pivot_shares.columns:\n",
    "    ax2.bar(x, pivot_shares[combo].values, bottom=bottom, label=combo, color=combo_colors.get(combo, \"#b2babb\"))\n",
    "    bottom += pivot_shares[combo].values\n",
    "ax2.set_xticks(x)\n",
    "ax2.set_xticklabels(pivot_shares.index, rotation=45, ha=\"right\")\n",
    "ax2.set_ylim(0, 105)\n",
    "ax2.set_ylabel(\"% of countries\")\n",
    "ax2.set_title(\"Retail/Digital policy bundle — regional mix (latest common year)\")\n",
    "ax2.legend(title=\"Combination\", bbox_to_anchor=(1.02, 1), loc=\"upper left\")\n",
    "ax2.grid(axis=\"y\", linestyle=\"--\", alpha=0.5)\n",
    "plt.tight_layout()\n",
    "plt.show()"
   ],
   "id": "2338008656a77043",
   "outputs": [
    {
     "data": {
      "text/plain": [
       "<Figure size 900x600 with 1 Axes>"
      ],
      "image/png": "[encoded data removed]"
     },
     "metadata": {},
     "output_type": "display_data"
    },
    {
     "data": {
      "text/plain": [
       "<Figure size 1000x600 with 1 Axes>"
      ],
      "image/png": "[encoded data removed]"
     },
     "metadata": {},
     "output_type": "display_data"
    }
   ],
   "execution_count": 4
  },
  {
   "metadata": {},
   "cell_type": "markdown",
   "source": [
    ">- **Title**: Policy bundle: bans on Internet advertising and POS display.\n",
    ">- Key messages:\n",
    ">    - The most common bundle is Internet = yes / POS = no → a storefront loophole remains.\n",
    ">    - Internet = yes / POS = yes is present but not dominant; comparatively stronger in some mature regions (e.g., Europe, Western Pacific).\n",
    ">    - POS = yes without Internet is rare everywhere.\n",
    ">    - Several regions still show Internet = no / POS = no, indicating incomplete uptake.\n",
    ">    - Effectiveness improves when both measures are combined; prioritize closing POS, updating Internet bans (social media, influencers, cross-border ads), and aligning fines/inspections."
   ],
   "id": "c51c0588187b7037"
  }
 ],
 "metadata": {
  "kernelspec": {
   "display_name": "Python 3",
   "language": "python",
   "name": "python3"
  },
  "language_info": {
   "codemirror_mode": {
    "name": "ipython",
    "version": 2
   },
   "file_extension": ".py",
   "mimetype": "text/x-python",
   "name": "python",
   "nbconvert_exporter": "python",
   "pygments_lexer": "ipython2",
   "version": "2.7.6"
  }
 },
 "nbformat": 4,
 "nbformat_minor": 5
}
